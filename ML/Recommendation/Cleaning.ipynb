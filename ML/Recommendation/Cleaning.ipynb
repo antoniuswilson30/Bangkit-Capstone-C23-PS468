{
 "cells": [
  {
   "cell_type": "code",
   "execution_count": 1,
   "metadata": {},
   "outputs": [],
   "source": [
    "import pandas as pd\n",
    "import seaborn as sns\n",
    "import numpy as np\n",
    "import pickle\n",
    "import matplotlib.pyplot as plt\n",
    "import scipy.cluster.hierarchy as sch\n",
    "import time\n",
    "from sklearn.cluster import AgglomerativeClustering\n",
    "from sklearn.cluster import KMeans\n",
    "from sklearn.metrics import silhouette_score"
   ]
  },
  {
   "cell_type": "code",
   "execution_count": 2,
   "metadata": {},
   "outputs": [
    {
     "data": {
      "text/plain": [
       "(1138, 5)"
      ]
     },
     "execution_count": 2,
     "metadata": {},
     "output_type": "execute_result"
    }
   ],
   "source": [
    "df = pd.read_csv('../Dataset/skincare_products.csv', delimiter = ',')\n",
    "df.shape"
   ]
  },
  {
   "cell_type": "code",
   "execution_count": 4,
   "metadata": {},
   "outputs": [
    {
     "data": {
      "text/html": [
       "<div>\n",
       "<style scoped>\n",
       "    .dataframe tbody tr th:only-of-type {\n",
       "        vertical-align: middle;\n",
       "    }\n",
       "\n",
       "    .dataframe tbody tr th {\n",
       "        vertical-align: top;\n",
       "    }\n",
       "\n",
       "    .dataframe thead th {\n",
       "        text-align: right;\n",
       "    }\n",
       "</style>\n",
       "<table border=\"1\" class=\"dataframe\">\n",
       "  <thead>\n",
       "    <tr style=\"text-align: right;\">\n",
       "      <th></th>\n",
       "      <th>product_name</th>\n",
       "      <th>product_url</th>\n",
       "      <th>product_type</th>\n",
       "      <th>ingredients</th>\n",
       "      <th>price</th>\n",
       "    </tr>\n",
       "  </thead>\n",
       "  <tbody>\n",
       "    <tr>\n",
       "      <th>0</th>\n",
       "      <td>The Ordinary Natural Moisturising Factors + HA...</td>\n",
       "      <td>https://www.lookfantastic.com/the-ordinary-nat...</td>\n",
       "      <td>Moisturiser</td>\n",
       "      <td>Aqua (Water), Caprylic/Capric Triglyceride, Ce...</td>\n",
       "      <td>£5.20</td>\n",
       "    </tr>\n",
       "    <tr>\n",
       "      <th>1</th>\n",
       "      <td>CeraVe Facial Moisturising Lotion SPF 25 52ml</td>\n",
       "      <td>https://www.lookfantastic.com/cerave-facial-mo...</td>\n",
       "      <td>Moisturiser</td>\n",
       "      <td>Aqua/Water, Homosalate, Glycerin, Octocrylene,...</td>\n",
       "      <td>£13.00</td>\n",
       "    </tr>\n",
       "    <tr>\n",
       "      <th>2</th>\n",
       "      <td>The Ordinary Hyaluronic Acid 2% + B5 Hydration...</td>\n",
       "      <td>https://www.lookfantastic.com/the-ordinary-hya...</td>\n",
       "      <td>Moisturiser</td>\n",
       "      <td>Aqua (Water), Sodium Hyaluronate, Sodium Hyalu...</td>\n",
       "      <td>£6.20</td>\n",
       "    </tr>\n",
       "    <tr>\n",
       "      <th>3</th>\n",
       "      <td>AMELIORATE Transforming Body Lotion 200ml</td>\n",
       "      <td>https://www.lookfantastic.com/ameliorate-trans...</td>\n",
       "      <td>Moisturiser</td>\n",
       "      <td>Aqua/Water/Eau, Ammonium Lactate, C12-15 Alkyl...</td>\n",
       "      <td>£22.50</td>\n",
       "    </tr>\n",
       "    <tr>\n",
       "      <th>4</th>\n",
       "      <td>CeraVe Moisturising Cream 454g</td>\n",
       "      <td>https://www.lookfantastic.com/cerave-moisturis...</td>\n",
       "      <td>Moisturiser</td>\n",
       "      <td>Purified Water, Glycerin, Ceteareth-20 and Cet...</td>\n",
       "      <td>£16.00</td>\n",
       "    </tr>\n",
       "  </tbody>\n",
       "</table>\n",
       "</div>"
      ],
      "text/plain": [
       "                                        product_name  \\\n",
       "0  The Ordinary Natural Moisturising Factors + HA...   \n",
       "1      CeraVe Facial Moisturising Lotion SPF 25 52ml   \n",
       "2  The Ordinary Hyaluronic Acid 2% + B5 Hydration...   \n",
       "3          AMELIORATE Transforming Body Lotion 200ml   \n",
       "4                     CeraVe Moisturising Cream 454g   \n",
       "\n",
       "                                         product_url product_type  \\\n",
       "0  https://www.lookfantastic.com/the-ordinary-nat...  Moisturiser   \n",
       "1  https://www.lookfantastic.com/cerave-facial-mo...  Moisturiser   \n",
       "2  https://www.lookfantastic.com/the-ordinary-hya...  Moisturiser   \n",
       "3  https://www.lookfantastic.com/ameliorate-trans...  Moisturiser   \n",
       "4  https://www.lookfantastic.com/cerave-moisturis...  Moisturiser   \n",
       "\n",
       "                                         ingredients   price  \n",
       "0  Aqua (Water), Caprylic/Capric Triglyceride, Ce...   £5.20  \n",
       "1  Aqua/Water, Homosalate, Glycerin, Octocrylene,...  £13.00  \n",
       "2  Aqua (Water), Sodium Hyaluronate, Sodium Hyalu...   £6.20  \n",
       "3  Aqua/Water/Eau, Ammonium Lactate, C12-15 Alkyl...  £22.50  \n",
       "4  Purified Water, Glycerin, Ceteareth-20 and Cet...  £16.00  "
      ]
     },
     "execution_count": 4,
     "metadata": {},
     "output_type": "execute_result"
    }
   ],
   "source": [
    "df.head()"
   ]
  },
  {
   "cell_type": "code",
   "execution_count": 5,
   "metadata": {},
   "outputs": [
    {
     "data": {
      "text/html": [
       "<div>\n",
       "<style scoped>\n",
       "    .dataframe tbody tr th:only-of-type {\n",
       "        vertical-align: middle;\n",
       "    }\n",
       "\n",
       "    .dataframe tbody tr th {\n",
       "        vertical-align: top;\n",
       "    }\n",
       "\n",
       "    .dataframe thead th {\n",
       "        text-align: right;\n",
       "    }\n",
       "</style>\n",
       "<table border=\"1\" class=\"dataframe\">\n",
       "  <thead>\n",
       "    <tr style=\"text-align: right;\">\n",
       "      <th></th>\n",
       "      <th>product_name</th>\n",
       "      <th>product_url</th>\n",
       "      <th>product_type</th>\n",
       "      <th>ingredients</th>\n",
       "      <th>price</th>\n",
       "    </tr>\n",
       "  </thead>\n",
       "  <tbody>\n",
       "    <tr>\n",
       "      <th>count</th>\n",
       "      <td>1138</td>\n",
       "      <td>1138</td>\n",
       "      <td>1138</td>\n",
       "      <td>1138</td>\n",
       "      <td>1138</td>\n",
       "    </tr>\n",
       "    <tr>\n",
       "      <th>unique</th>\n",
       "      <td>1138</td>\n",
       "      <td>1126</td>\n",
       "      <td>14</td>\n",
       "      <td>1090</td>\n",
       "      <td>290</td>\n",
       "    </tr>\n",
       "    <tr>\n",
       "      <th>top</th>\n",
       "      <td>The Ordinary Natural Moisturising Factors + HA...</td>\n",
       "      <td>https://www.lookfantastic.com/lancome-advanced...</td>\n",
       "      <td>Mask</td>\n",
       "      <td>Aqua / Water, Bifida Ferment Lysate, Glycerin,...</td>\n",
       "      <td>£22.00</td>\n",
       "    </tr>\n",
       "    <tr>\n",
       "      <th>freq</th>\n",
       "      <td>1</td>\n",
       "      <td>4</td>\n",
       "      <td>124</td>\n",
       "      <td>4</td>\n",
       "      <td>33</td>\n",
       "    </tr>\n",
       "  </tbody>\n",
       "</table>\n",
       "</div>"
      ],
      "text/plain": [
       "                                             product_name  \\\n",
       "count                                                1138   \n",
       "unique                                               1138   \n",
       "top     The Ordinary Natural Moisturising Factors + HA...   \n",
       "freq                                                    1   \n",
       "\n",
       "                                              product_url product_type  \\\n",
       "count                                                1138         1138   \n",
       "unique                                               1126           14   \n",
       "top     https://www.lookfantastic.com/lancome-advanced...         Mask   \n",
       "freq                                                    4          124   \n",
       "\n",
       "                                              ingredients   price  \n",
       "count                                                1138    1138  \n",
       "unique                                               1090     290  \n",
       "top     Aqua / Water, Bifida Ferment Lysate, Glycerin,...  £22.00  \n",
       "freq                                                    4      33  "
      ]
     },
     "execution_count": 5,
     "metadata": {},
     "output_type": "execute_result"
    }
   ],
   "source": [
    "df.describe()"
   ]
  },
  {
   "cell_type": "code",
   "execution_count": 6,
   "metadata": {},
   "outputs": [
    {
     "name": "stdout",
     "output_type": "stream",
     "text": [
      "<class 'pandas.core.frame.DataFrame'>\n",
      "RangeIndex: 1138 entries, 0 to 1137\n",
      "Data columns (total 5 columns):\n",
      " #   Column        Non-Null Count  Dtype \n",
      "---  ------        --------------  ----- \n",
      " 0   product_name  1138 non-null   object\n",
      " 1   product_url   1138 non-null   object\n",
      " 2   product_type  1138 non-null   object\n",
      " 3   ingredients   1138 non-null   object\n",
      " 4   price         1138 non-null   object\n",
      "dtypes: object(5)\n",
      "memory usage: 44.6+ KB\n"
     ]
    }
   ],
   "source": [
    "df.info()"
   ]
  }
 ],
 "metadata": {
  "kernelspec": {
   "display_name": "Python 3",
   "language": "python",
   "name": "python3"
  },
  "language_info": {
   "codemirror_mode": {
    "name": "ipython",
    "version": 3
   },
   "file_extension": ".py",
   "mimetype": "text/x-python",
   "name": "python",
   "nbconvert_exporter": "python",
   "pygments_lexer": "ipython3",
   "version": "3.11.2"
  },
  "orig_nbformat": 4
 },
 "nbformat": 4,
 "nbformat_minor": 2
}
