{
 "cells": [
  {
   "cell_type": "code",
   "execution_count": 7,
   "metadata": {},
   "outputs": [],
   "source": [
    "import requests\n",
    "from PIL import Image\n",
    "from io import BytesIO\n",
    "\n",
    "def create_thumbnail(url, thumbnail_size=(128, 128)):\n",
    "    try:\n",
    "        # Download the image from the URL\n",
    "        response = requests.get(url)\n",
    "        response.raise_for_status()\n",
    "        \n",
    "        # Open the image from the response content\n",
    "        image = Image.open(BytesIO(response.content))\n",
    "        \n",
    "        # Resize the image to create a thumbnail\n",
    "        image.thumbnail(thumbnail_size)\n",
    "        \n",
    "        # Save the thumbnail to a file\n",
    "        thumbnail_filename = \"thumbnail.jpg\"  # Replace with your desired filename\n",
    "        image.save(thumbnail_filename)\n",
    "        \n",
    "        return thumbnail_filename\n",
    "    \n",
    "    except (requests.HTTPError, requests.ConnectionError) as e:\n",
    "        print(f\"Error occurred while downloading the image: {e}\")\n",
    "    \n",
    "    except IOError as e:\n",
    "        print(f\"Error occurred while processing the image: {e}\")\n",
    "\n"
   ]
  },
  {
   "cell_type": "code",
   "execution_count": 8,
   "metadata": {},
   "outputs": [
    {
     "name": "stdout",
     "output_type": "stream",
     "text": [
      "Error occurred while processing the image: cannot identify image file <_io.BytesIO object at 0x000001E71D2CDA80>\n"
     ]
    }
   ],
   "source": [
    "create_thumbnail(\"https://www.lookfantastic.com/glamglow-supermud-mask-50g/11422899.html\")"
   ]
  }
 ],
 "metadata": {
  "kernelspec": {
   "display_name": "Python 3",
   "language": "python",
   "name": "python3"
  },
  "language_info": {
   "codemirror_mode": {
    "name": "ipython",
    "version": 3
   },
   "file_extension": ".py",
   "mimetype": "text/x-python",
   "name": "python",
   "nbconvert_exporter": "python",
   "pygments_lexer": "ipython3",
   "version": "3.11.2"
  },
  "orig_nbformat": 4
 },
 "nbformat": 4,
 "nbformat_minor": 2
}
