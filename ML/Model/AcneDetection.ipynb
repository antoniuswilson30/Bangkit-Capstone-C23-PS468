{
 "cells": [
  {
   "attachments": {},
   "cell_type": "markdown",
   "metadata": {},
   "source": [
    "### Import Libraries"
   ]
  },
  {
   "cell_type": "code",
   "execution_count": null,
   "metadata": {},
   "outputs": [],
   "source": [
    "#Pretrained Model EfficientNetB1 without Top Layer\n",
    "# !wget \"https://storage.googleapis.com/keras-applications/efficientnetb1_notop.h5\""
   ]
  },
  {
   "cell_type": "code",
   "execution_count": 1,
   "metadata": {},
   "outputs": [],
   "source": [
    "import tensorflow as tf\n",
    "import os\n",
    "import tensorflow_hub as hub\n",
    "from tensorflow.keras import layers\n",
    "from tensorflow.keras import Model\n",
    "from tensorflow.keras.preprocessing.image import ImageDataGenerator\n",
    "from tensorflow.keras.applications.efficientnet import EfficientNetB1\n",
    "from tensorflow.keras.optimizers import Adam"
   ]
  },
  {
   "attachments": {},
   "cell_type": "markdown",
   "metadata": {},
   "source": [
    "----"
   ]
  },
  {
   "attachments": {},
   "cell_type": "markdown",
   "metadata": {},
   "source": [
    "### Create model"
   ]
  },
  {
   "cell_type": "code",
   "execution_count": 2,
   "metadata": {},
   "outputs": [],
   "source": [
    "#Use pretrained model as transfer learning layers\n",
    "local_weight_file = './pretrained/efficientnetb1_notop.h5'\n",
    "\n",
    "#Adjust input shape and weights\n",
    "pre_trained_model = EfficientNetB1(input_shape = (150, 150, 3), \n",
    "                                include_top = False, \n",
    "                                weights = None)"
   ]
  },
  {
   "cell_type": "code",
   "execution_count": 3,
   "metadata": {},
   "outputs": [],
   "source": [
    "# Load the downloaded pre-trained weights\n",
    "pre_trained_model.load_weights(local_weight_file)\n",
    "\n",
    "# Freeze the weights of the layers.\n",
    "for layer in pre_trained_model.layers:\n",
    "  layer.trainable = False"
   ]
  },
  {
   "cell_type": "code",
   "execution_count": 4,
   "metadata": {},
   "outputs": [
    {
     "name": "stdout",
     "output_type": "stream",
     "text": [
      "last layer output shape:  [(None, 150, 150, 3)]\n"
     ]
    }
   ],
   "source": [
    "#Specify input layer model\n",
    "last_layer = pre_trained_model.get_layer('input_1')\n",
    "print('last layer output shape: ', last_layer.output_shape)\n",
    "\n",
    "last_output = last_layer.output"
   ]
  },
  {
   "cell_type": "code",
   "execution_count": 5,
   "metadata": {},
   "outputs": [
    {
     "name": "stdout",
     "output_type": "stream",
     "text": [
      "Model: \"model\"\n",
      "_________________________________________________________________\n",
      " Layer (type)                Output Shape              Param #   \n",
      "=================================================================\n",
      " input_1 (InputLayer)        [(None, 150, 150, 3)]     0         \n",
      "                                                                 \n",
      " flatten (Flatten)           (None, 67500)             0         \n",
      "                                                                 \n",
      " dense (Dense)               (None, 1024)              69121024  \n",
      "                                                                 \n",
      " dropout (Dropout)           (None, 1024)              0         \n",
      "                                                                 \n",
      " dense_1 (Dense)             (None, 1)                 1025      \n",
      "                                                                 \n",
      "=================================================================\n",
      "Total params: 69,122,049\n",
      "Trainable params: 69,122,049\n",
      "Non-trainable params: 0\n",
      "_________________________________________________________________\n"
     ]
    }
   ],
   "source": [
    "# Flatten the output layer to 1 dimension\n",
    "x = layers.Flatten()(last_output)\n",
    "# Add hidden layers\n",
    "x = layers.Dense(1024, activation='relu')(x)\n",
    "# Add dropout\n",
    "x = layers.Dropout(0.3)(x)                  \n",
    "# Add a final sigmoid layer for classification, sigmoid are used because the model only have 2 ouputs\n",
    "x = layers.Dense(1, activation='sigmoid')(x)           \n",
    "\n",
    "# Append the dense network to the base model\n",
    "acneModel = Model(pre_trained_model.input, x) \n",
    "\n",
    "# Print the model summary\n",
    "acneModel.summary()"
   ]
  },
  {
   "cell_type": "code",
   "execution_count": 6,
   "metadata": {},
   "outputs": [],
   "source": [
    "#Compiled the model using adam optimizer and binary classification\n",
    "acneModel.compile(optimizer = Adam(learning_rate=0.0001), \n",
    "              loss = 'binary_crossentropy', \n",
    "              metrics = ['accuracy'])"
   ]
  },
  {
   "cell_type": "code",
   "execution_count": 7,
   "metadata": {},
   "outputs": [
    {
     "name": "stdout",
     "output_type": "stream",
     "text": [
      "Found 408 images belonging to 2 classes.\n",
      "Found 159 images belonging to 2 classes.\n"
     ]
    }
   ],
   "source": [
    "base_dir = '../Dataset/'\n",
    "\n",
    "train_dir = os.path.join(base_dir, 'train')\n",
    "validation_dir = os.path.join(base_dir, 'validation')\n",
    "\n",
    "# Directory with training acne pictures\n",
    "train_acne_dir = os.path.join(train_dir, 'acne3') \n",
    "\n",
    "# Directory with training normal pictures\n",
    "train_normal_dir = os.path.join(train_dir, 'normal2') \n",
    "\n",
    "# Directory with validation acne pictures\n",
    "validation_acne_dir = os.path.join(validation_dir, 'acne2') \n",
    "\n",
    "# Directory with validation normal pictures\n",
    "validation_normal_dir = os.path.join(validation_dir, 'normal2')\n",
    "\n",
    "# Add our data-augmentation parameters to ImageDataGenerator\n",
    "train_datagen = ImageDataGenerator(rescale = 1./255.,\n",
    "                                   rotation_range = 40,\n",
    "                                   width_shift_range = 0.2,\n",
    "                                   height_shift_range = 0.2,\n",
    "                                   shear_range = 0.2,\n",
    "                                   zoom_range = 0.2,\n",
    "                                   horizontal_flip = True)\n",
    "\n",
    "# Note that the validation data should not be augmented!\n",
    "test_datagen = ImageDataGenerator( rescale = 1.0/255. )\n",
    "\n",
    "# Flow training images in batches of 20 using train_datagen generator\n",
    "train_generator = train_datagen.flow_from_directory(train_dir,\n",
    "                                                    classes=['acne3', 'normal2'],\n",
    "                                                    batch_size = 20,\n",
    "                                                    class_mode = 'binary', \n",
    "                                                    target_size = (150, 150))     \n",
    "\n",
    "# Flow validation images in batches of 20 using test_datagen generator\n",
    "validation_generator =  test_datagen.flow_from_directory(validation_dir,\n",
    "                                                         classes=['acne2', 'normal2'],\n",
    "                                                          batch_size  = 20,\n",
    "                                                          class_mode  = 'binary', \n",
    "                                                          target_size = (150, 150))"
   ]
  },
  {
   "cell_type": "code",
   "execution_count": 8,
   "metadata": {},
   "outputs": [],
   "source": [
    "#Defining callback for preventing underfitting and overfitting\n",
    "class myCallback(tf.keras.callbacks.Callback):\n",
    "    def on_epoch_end(self, epoch, logs={}):\n",
    "        if logs.get('accuracy') is not None and (logs.get('accuracy') > 0.99 or logs.get('accuracy') < 0.5):\n",
    "            print(\"\\nCancelling training\")\n",
    "            self.model.stop_training = True"
   ]
  },
  {
   "cell_type": "code",
   "execution_count": 9,
   "metadata": {},
   "outputs": [
    {
     "name": "stdout",
     "output_type": "stream",
     "text": [
      "Epoch 1/25\n",
      "21/21 [==============================] - 8s 352ms/step - loss: 2.3180 - accuracy: 0.6324 - val_loss: 1.6998 - val_accuracy: 0.6918\n",
      "Epoch 2/25\n",
      "21/21 [==============================] - 7s 332ms/step - loss: 1.1587 - accuracy: 0.7132 - val_loss: 0.6205 - val_accuracy: 0.6730\n",
      "Epoch 3/25\n",
      "21/21 [==============================] - 7s 314ms/step - loss: 0.8069 - accuracy: 0.7059 - val_loss: 0.6355 - val_accuracy: 0.6918\n",
      "Epoch 4/25\n",
      "21/21 [==============================] - 7s 316ms/step - loss: 0.7789 - accuracy: 0.7010 - val_loss: 0.7023 - val_accuracy: 0.6541\n",
      "Epoch 5/25\n",
      "21/21 [==============================] - 7s 333ms/step - loss: 0.7214 - accuracy: 0.7475 - val_loss: 0.9298 - val_accuracy: 0.6855\n",
      "Epoch 6/25\n",
      "21/21 [==============================] - 7s 310ms/step - loss: 0.6565 - accuracy: 0.7132 - val_loss: 0.5809 - val_accuracy: 0.7358\n",
      "Epoch 7/25\n",
      "21/21 [==============================] - 7s 327ms/step - loss: 0.5438 - accuracy: 0.7475 - val_loss: 0.5586 - val_accuracy: 0.6352\n",
      "Epoch 8/25\n",
      "21/21 [==============================] - 7s 341ms/step - loss: 0.5315 - accuracy: 0.7770 - val_loss: 0.7313 - val_accuracy: 0.6855\n",
      "Epoch 9/25\n",
      "21/21 [==============================] - 7s 346ms/step - loss: 0.5707 - accuracy: 0.7426 - val_loss: 0.8703 - val_accuracy: 0.6855\n",
      "Epoch 10/25\n",
      "21/21 [==============================] - 7s 323ms/step - loss: 0.6040 - accuracy: 0.7623 - val_loss: 0.6081 - val_accuracy: 0.6855\n",
      "Epoch 11/25\n",
      "21/21 [==============================] - 7s 349ms/step - loss: 0.5079 - accuracy: 0.7672 - val_loss: 0.5618 - val_accuracy: 0.6792\n",
      "Epoch 12/25\n",
      "21/21 [==============================] - 7s 344ms/step - loss: 0.5130 - accuracy: 0.7549 - val_loss: 0.5616 - val_accuracy: 0.6415\n",
      "Epoch 13/25\n",
      "21/21 [==============================] - 7s 354ms/step - loss: 0.4984 - accuracy: 0.7917 - val_loss: 0.6287 - val_accuracy: 0.6226\n",
      "Epoch 14/25\n",
      "21/21 [==============================] - 8s 362ms/step - loss: 0.5253 - accuracy: 0.7598 - val_loss: 0.5645 - val_accuracy: 0.6289\n",
      "Epoch 15/25\n",
      "21/21 [==============================] - 8s 366ms/step - loss: 0.5595 - accuracy: 0.7328 - val_loss: 0.7125 - val_accuracy: 0.6855\n",
      "Epoch 16/25\n",
      "21/21 [==============================] - 8s 373ms/step - loss: 0.5261 - accuracy: 0.7770 - val_loss: 0.5933 - val_accuracy: 0.6855\n",
      "Epoch 17/25\n",
      "21/21 [==============================] - 8s 395ms/step - loss: 0.4956 - accuracy: 0.7745 - val_loss: 0.5586 - val_accuracy: 0.6604\n",
      "Epoch 18/25\n",
      "21/21 [==============================] - 8s 363ms/step - loss: 0.4857 - accuracy: 0.7721 - val_loss: 0.5626 - val_accuracy: 0.6352\n",
      "Epoch 19/25\n",
      "21/21 [==============================] - 8s 368ms/step - loss: 0.4869 - accuracy: 0.7598 - val_loss: 0.5629 - val_accuracy: 0.6478\n",
      "Epoch 20/25\n",
      "21/21 [==============================] - 8s 381ms/step - loss: 0.4679 - accuracy: 0.7549 - val_loss: 0.5688 - val_accuracy: 0.6604\n",
      "Epoch 21/25\n",
      "21/21 [==============================] - 8s 376ms/step - loss: 0.4841 - accuracy: 0.7672 - val_loss: 0.5466 - val_accuracy: 0.6541\n",
      "Epoch 22/25\n",
      "21/21 [==============================] - 8s 364ms/step - loss: 0.5003 - accuracy: 0.7475 - val_loss: 0.5562 - val_accuracy: 0.6478\n",
      "Epoch 23/25\n",
      "21/21 [==============================] - 8s 370ms/step - loss: 0.5039 - accuracy: 0.7623 - val_loss: 0.5961 - val_accuracy: 0.6792\n",
      "Epoch 24/25\n",
      "21/21 [==============================] - 8s 376ms/step - loss: 0.4670 - accuracy: 0.7745 - val_loss: 0.5424 - val_accuracy: 0.6415\n",
      "Epoch 25/25\n",
      "21/21 [==============================] - 9s 443ms/step - loss: 0.4630 - accuracy: 0.7745 - val_loss: 0.5334 - val_accuracy: 0.6667\n"
     ]
    }
   ],
   "source": [
    "#Train the model\n",
    "callbacks = myCallback()\n",
    "history = acneModel.fit(\n",
    "            train_generator,\n",
    "            validation_data = validation_generator,\n",
    "            epochs = 25,\n",
    "            callbacks=[callbacks])"
   ]
  },
  {
   "attachments": {},
   "cell_type": "markdown",
   "metadata": {},
   "source": [
    "----"
   ]
  },
  {
   "attachments": {},
   "cell_type": "markdown",
   "metadata": {},
   "source": [
    "### Visualizing Accuracy Plot"
   ]
  },
  {
   "cell_type": "code",
   "execution_count": null,
   "metadata": {},
   "outputs": [],
   "source": [
    "import matplotlib.pyplot as plt\n",
    "acc = history.history['accuracy']\n",
    "val_acc = history.history['val_accuracy']\n",
    "loss = history.history['loss']\n",
    "val_loss = history.history['val_loss']\n",
    "\n",
    "epochs = range(len(acc))\n",
    "\n",
    "plt.plot(epochs, acc, 'r', label='Training accuracy')\n",
    "plt.plot(epochs, val_acc, 'b', label='Validation accuracy')\n",
    "plt.title('Training and validation accuracy')\n",
    "plt.legend(loc=0)\n",
    "plt.figure()\n",
    "plt.show()"
   ]
  },
  {
   "cell_type": "code",
   "execution_count": null,
   "metadata": {},
   "outputs": [],
   "source": [
    "plt.plot(epochs, loss, 'r', label='Training loss')\n",
    "plt.plot(epochs, val_loss, 'b', label='Validation loss')\n",
    "plt.title('Training and validation Loss')\n",
    "plt.legend(loc=0)\n",
    "plt.figure()\n",
    "plt.show()"
   ]
  },
  {
   "attachments": {},
   "cell_type": "markdown",
   "metadata": {},
   "source": [
    "----"
   ]
  },
  {
   "attachments": {},
   "cell_type": "markdown",
   "metadata": {},
   "source": [
    "### Try Input Image"
   ]
  },
  {
   "cell_type": "code",
   "execution_count": 1,
   "metadata": {},
   "outputs": [],
   "source": [
    "import numpy as np\n",
    "import tkinter as tk\n",
    "from tkinter import filedialog\n",
    "from tensorflow.keras.utils import load_img, img_to_array\n",
    "\n",
    "#Code for open dialog window on Local Machine\n",
    "root = tk.Tk()\n",
    "root.withdraw()\n",
    "uploaded = filedialog.askopenfilename()\n",
    " \n",
    "#Predicting images\n",
    "path = #PathtoImages\n",
    "img = load_img(path, target_size=(224, 224))\n",
    "x = img_to_array(img)\n",
    "x /= 255\n",
    "x = np.expand_dims(x, axis=0)\n",
    "\n",
    "images = np.vstack([x])\n",
    "classes = acneModel.predict(images, batch_size=10)\n",
    "print(classes[0])\n",
    "\n",
    "if classes[0]>0.5:\n",
    "  print(\"no dullness/acne\")\n",
    "  print()\n",
    "else:\n",
    "  print(\"dullness/acne\")\n",
    "  print()\n",
    " "
   ]
  },
  {
   "attachments": {},
   "cell_type": "markdown",
   "metadata": {},
   "source": [
    "----"
   ]
  },
  {
   "attachments": {},
   "cell_type": "markdown",
   "metadata": {},
   "source": [
    "### Convert and Save Model"
   ]
  },
  {
   "cell_type": "code",
   "execution_count": 12,
   "metadata": {},
   "outputs": [],
   "source": [
    "import pickle\n",
    "\n",
    "dump = {\n",
    "    'acne':acneModel,\n",
    "}\n",
    "# Save your model to a file using pickle\n",
    "with open(\"scanningmodel.pkl\", \"wb\") as f:\n",
    "    pickle.dump(dump, f)"
   ]
  },
  {
   "cell_type": "code",
   "execution_count": 10,
   "metadata": {},
   "outputs": [],
   "source": [
    "acneModel.save(\"acneModel.h5\")"
   ]
  }
 ],
 "metadata": {
  "kernelspec": {
   "display_name": "Python 3",
   "language": "python",
   "name": "python3"
  },
  "language_info": {
   "codemirror_mode": {
    "name": "ipython",
    "version": 3
   },
   "file_extension": ".py",
   "mimetype": "text/x-python",
   "name": "python",
   "nbconvert_exporter": "python",
   "pygments_lexer": "ipython3",
   "version": "3.11.2"
  },
  "orig_nbformat": 4
 },
 "nbformat": 4,
 "nbformat_minor": 2
}
