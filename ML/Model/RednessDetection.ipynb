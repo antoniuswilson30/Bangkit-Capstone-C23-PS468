{
 "cells": [
  {
   "cell_type": "code",
   "execution_count": 1,
   "metadata": {},
   "outputs": [],
   "source": [
    "from tensorflow.keras import layers\n",
    "from tensorflow.keras.optimizers import Adam\n",
    "from tensorflow.keras import Model\n",
    "from tensorflow.keras.preprocessing.image import ImageDataGenerator\n",
    "from tensorflow.keras.applications.efficientnet import EfficientNetB1\n",
    "from tensorflow.keras.applications.inception_v3 import InceptionV3\n",
    "import tensorflow as tf\n",
    "import os"
   ]
  },
  {
   "cell_type": "code",
   "execution_count": 21,
   "metadata": {},
   "outputs": [],
   "source": [
    "local_weight_file = './pretrained/efficientnetb1_notop.h5'\n",
    "\n",
    "# Set the input shape and remove the dense layers.\n",
    "pre_trained_model = EfficientNetB1(input_shape = (150, 150, 3), \n",
    "                                include_top = False, \n",
    "                                weights = None)"
   ]
  },
  {
   "cell_type": "code",
   "execution_count": 22,
   "metadata": {},
   "outputs": [],
   "source": [
    "# Load the pre-trained weights you downloaded.\n",
    "pre_trained_model.load_weights(local_weight_file)\n",
    "\n",
    "# Freeze the weights of the layers.\n",
    "for layer in pre_trained_model.layers:\n",
    "  layer.trainable = False"
   ]
  },
  {
   "cell_type": "code",
   "execution_count": 24,
   "metadata": {},
   "outputs": [
    {
     "name": "stdout",
     "output_type": "stream",
     "text": [
      "last layer output shape:  [(None, 150, 150, 3)]\n"
     ]
    }
   ],
   "source": [
    "# Choose `mixed_7` as the last layer of your base model\n",
    "last_layer = pre_trained_model.get_layer('input_3')\n",
    "print('last layer output shape: ', last_layer.output_shape)\n",
    "last_output = last_layer.output"
   ]
  },
  {
   "cell_type": "code",
   "execution_count": 26,
   "metadata": {},
   "outputs": [
    {
     "name": "stdout",
     "output_type": "stream",
     "text": [
      "Model: \"model_2\"\n",
      "_________________________________________________________________\n",
      " Layer (type)                Output Shape              Param #   \n",
      "=================================================================\n",
      " input_3 (InputLayer)        [(None, 150, 150, 3)]     0         \n",
      "                                                                 \n",
      " flatten_2 (Flatten)         (None, 67500)             0         \n",
      "                                                                 \n",
      " dense_5 (Dense)             (None, 1024)              69121024  \n",
      "                                                                 \n",
      " dropout_2 (Dropout)         (None, 1024)              0         \n",
      "                                                                 \n",
      " dense_6 (Dense)             (None, 512)               524800    \n",
      "                                                                 \n",
      " dense_7 (Dense)             (None, 1)                 513       \n",
      "                                                                 \n",
      "=================================================================\n",
      "Total params: 69,646,337\n",
      "Trainable params: 69,646,337\n",
      "Non-trainable params: 0\n",
      "_________________________________________________________________\n"
     ]
    }
   ],
   "source": [
    "# Flatten the output layer to 1 dimension\n",
    "x = layers.Flatten()(last_output)\n",
    "# Add a fully connected layer with 1,024 hidden units and ReLU activation\n",
    "x = layers.Dense(1024, activation='relu')(x)\n",
    "# Add a dropout rate of 0.3\n",
    "x = layers.Dropout(0.3)(x)          \n",
    "# Add a half connected layer with 512 hidden units and ReLU activation\n",
    "x = layers.Dense(512, activation='relu')(x)        \n",
    "# Add a final sigmoid layer for classification\n",
    "x = layers.Dense(1, activation='sigmoid')(x)           \n",
    "\n",
    "# Append the dense network to the base model\n",
    "rednessModel = Model(pre_trained_model.input, x) \n",
    "\n",
    "# Print the model summary. See your dense network connected at the end.\n",
    "rednessModel.summary()"
   ]
  },
  {
   "cell_type": "code",
   "execution_count": 15,
   "metadata": {},
   "outputs": [],
   "source": [
    "# Set the training parameters\n",
    "rednessModel.compile(optimizer = Adam(learning_rate=0.0001), \n",
    "              loss = 'binary_crossentropy', \n",
    "              metrics = ['accuracy'])"
   ]
  },
  {
   "cell_type": "code",
   "execution_count": 17,
   "metadata": {},
   "outputs": [
    {
     "name": "stdout",
     "output_type": "stream",
     "text": [
      "Found 198 images belonging to 2 classes.\n",
      "Found 89 images belonging to 2 classes.\n"
     ]
    }
   ],
   "source": [
    "base_dir = '../Dataset/'\n",
    "\n",
    "train_dir = os.path.join(base_dir, 'train')\n",
    "validation_dir = os.path.join(base_dir, 'validation')\n",
    "\n",
    "# Directory with training redness pictures\n",
    "train_redness_dir = os.path.join(train_dir, 'redness') \n",
    "\n",
    "# Directory with training normal pictures\n",
    "train_normal_dir = os.path.join(train_dir, 'normal2') \n",
    "\n",
    "# Directory with validation redness pictures\n",
    "validation_redness_dir = os.path.join(validation_dir, 'redness') \n",
    "\n",
    "# Directory with validation normal pictures\n",
    "validation_normal_dir = os.path.join(validation_dir, 'normal2')\n",
    "\n",
    "# Add our data-augmentation parameters to ImageDataGenerator\n",
    "train_datagen = ImageDataGenerator(rescale = 1./255.,\n",
    "                                   rotation_range = 40,\n",
    "                                   width_shift_range = 0.2,\n",
    "                                   height_shift_range = 0.2,\n",
    "                                   shear_range = 0.2,\n",
    "                                   zoom_range = 0.2,\n",
    "                                   horizontal_flip = True)\n",
    "\n",
    "# Note that the validation data should not be augmented!\n",
    "test_datagen = ImageDataGenerator( rescale = 1.0/255. )\n",
    "\n",
    "# Flow training images in batches of 20 using train_datagen generator\n",
    "train_generator = train_datagen.flow_from_directory(train_dir,\n",
    "                                                    classes=['redness', 'normal2'],\n",
    "                                                    batch_size = 20,\n",
    "                                                    class_mode = 'binary', \n",
    "                                                    target_size = (150, 150))     \n",
    "\n",
    "# Flow validation images in batches of 20 using test_datagen generator\n",
    "validation_generator =  test_datagen.flow_from_directory(validation_dir,\n",
    "                                                         classes=['redness', 'normal'],\n",
    "                                                          batch_size  = 20,\n",
    "                                                          class_mode  = 'binary', \n",
    "                                                          target_size = (150, 150))"
   ]
  },
  {
   "cell_type": "code",
   "execution_count": 18,
   "metadata": {},
   "outputs": [],
   "source": [
    "class myCallback(tf.keras.callbacks.Callback):\n",
    "    def on_epoch_end(self, epoch, logs={}):\n",
    "        if logs.get('accuracy') is not None and (logs.get('accuracy') > 0.98 or logs.get('accuracy') < 0.5):\n",
    "            print(\"\\n Cancelling training\")\n",
    "            self.model.stop_training = True"
   ]
  },
  {
   "cell_type": "code",
   "execution_count": 19,
   "metadata": {},
   "outputs": [
    {
     "name": "stdout",
     "output_type": "stream",
     "text": [
      "Epoch 1/25\n",
      "10/10 [==============================] - 11s 917ms/step - loss: 1.0932 - accuracy: 0.7020 - val_loss: 1.4781 - val_accuracy: 0.4944\n",
      "Epoch 2/25\n",
      "10/10 [==============================] - 7s 768ms/step - loss: 0.5353 - accuracy: 0.8384 - val_loss: 2.7039 - val_accuracy: 0.5281\n",
      "Epoch 3/25\n",
      "10/10 [==============================] - 7s 772ms/step - loss: 0.2739 - accuracy: 0.8838 - val_loss: 3.2452 - val_accuracy: 0.5169\n",
      "Epoch 4/25\n",
      "10/10 [==============================] - 7s 764ms/step - loss: 0.1472 - accuracy: 0.9293 - val_loss: 2.3279 - val_accuracy: 0.4494\n",
      "Epoch 5/25\n",
      "10/10 [==============================] - 7s 738ms/step - loss: 0.1787 - accuracy: 0.9192 - val_loss: 4.1295 - val_accuracy: 0.5281\n",
      "Epoch 6/25\n",
      "10/10 [==============================] - 7s 764ms/step - loss: 0.1053 - accuracy: 0.9697 - val_loss: 3.5358 - val_accuracy: 0.5281\n",
      "Epoch 7/25\n",
      "10/10 [==============================] - 7s 750ms/step - loss: 0.0849 - accuracy: 0.9747 - val_loss: 3.1754 - val_accuracy: 0.4944\n",
      "Epoch 8/25\n",
      "10/10 [==============================] - 7s 773ms/step - loss: 0.0980 - accuracy: 0.9596 - val_loss: 3.3103 - val_accuracy: 0.5393\n",
      "Epoch 9/25\n",
      "10/10 [==============================] - 8s 757ms/step - loss: 0.0829 - accuracy: 0.9646 - val_loss: 3.9632 - val_accuracy: 0.5281\n",
      "Epoch 10/25\n",
      "10/10 [==============================] - 7s 748ms/step - loss: 0.0841 - accuracy: 0.9646 - val_loss: 2.7238 - val_accuracy: 0.4831\n",
      "Epoch 11/25\n",
      "10/10 [==============================] - 8s 786ms/step - loss: 0.1049 - accuracy: 0.9646 - val_loss: 3.5444 - val_accuracy: 0.5393\n",
      "Epoch 12/25\n",
      "10/10 [==============================] - 7s 728ms/step - loss: 0.1204 - accuracy: 0.9495 - val_loss: 3.0978 - val_accuracy: 0.5393\n",
      "Epoch 13/25\n",
      "10/10 [==============================] - ETA: 0s - loss: 0.0503 - accuracy: 0.9848\n",
      " Cancelling training\n",
      "10/10 [==============================] - 7s 738ms/step - loss: 0.0503 - accuracy: 0.9848 - val_loss: 2.6041 - val_accuracy: 0.5281\n"
     ]
    }
   ],
   "source": [
    "callbacks = myCallback()\n",
    "history = rednessModel.fit(\n",
    "            train_generator,\n",
    "            validation_data = validation_generator,\n",
    "            epochs = 25,\n",
    "            callbacks=[callbacks]\n",
    "            )"
   ]
  },
  {
   "cell_type": "code",
   "execution_count": 20,
   "metadata": {},
   "outputs": [
    {
     "data": {
      "image/png": "[encoded data removed]",
      "text/plain": [
       "<Figure size 640x480 with 1 Axes>"
      ]
     },
     "metadata": {},
     "output_type": "display_data"
    },
    {
     "data": {
      "text/plain": [
       "<Figure size 640x480 with 0 Axes>"
      ]
     },
     "metadata": {},
     "output_type": "display_data"
    }
   ],
   "source": [
    "import matplotlib.pyplot as plt\n",
    "acc = history.history['accuracy']\n",
    "val_acc = history.history['val_accuracy']\n",
    "loss = history.history['loss']\n",
    "val_loss = history.history['val_loss']\n",
    "\n",
    "epochs = range(len(acc))\n",
    "\n",
    "plt.plot(epochs, acc, 'r', label='Training accuracy')\n",
    "plt.plot(epochs, val_acc, 'b', label='Validation accuracy')\n",
    "plt.title('Training and validation accuracy')\n",
    "plt.legend(loc=0)\n",
    "plt.figure()\n",
    "\n",
    "\n",
    "plt.show()"
   ]
  },
  {
   "cell_type": "code",
   "execution_count": 36,
   "metadata": {},
   "outputs": [
    {
     "name": "stdout",
     "output_type": "stream",
     "text": [
      "1/1 [==============================] - 0s 41ms/step\n",
      "[0.68120545]\n",
      " noredness\n"
     ]
    }
   ],
   "source": [
    "import numpy as np\n",
    "import tkinter as tk\n",
    "from tkinter import filedialog\n",
    "# from google.colab import files\n",
    "from tensorflow.keras.utils import load_img, img_to_array\n",
    "\n",
    "root = tk.Tk()\n",
    "root.withdraw()\n",
    "uploaded = filedialog.askopenfilename()\n",
    " \n",
    "  # predicting images\n",
    "path = uploaded\n",
    "img = load_img(path, target_size=(224, 224))\n",
    "x = img_to_array(img)\n",
    "x /= 255\n",
    "x = np.expand_dims(x, axis=0)\n",
    "\n",
    "images = np.vstack([x])\n",
    "classes = rednessModel.predict(images, batch_size=10)\n",
    "print(classes[0])\n",
    "    \n",
    "if classes[0]>0.5:\n",
    "  print(\"noredness\")\n",
    "else:\n",
    "  print(\"redness\")\n",
    " "
   ]
  },
  {
   "attachments": {},
   "cell_type": "markdown",
   "metadata": {},
   "source": [
    "----"
   ]
  },
  {
   "cell_type": "code",
   "execution_count": null,
   "metadata": {},
   "outputs": [],
   "source": [
    "import pickle\n",
    "\n",
    "# Load the previously saved model from a file\n",
    "with open(\"acneModel.pkl\", \"rb\") as f:\n",
    "    acneModel = pickle.load(f)\n",
    "\n",
    "# Create a dictionary with your models\n",
    "dump = {\n",
    "    'model': acneModel,\n",
    "    'model2': rednessModel,\n",
    "}\n",
    "\n",
    "# Save your models to a file using pickle\n",
    "with open(\"scanningmodel.pkl\", \"wb\") as f:\n",
    "    pickle.dump(dump, f)\n"
   ]
  }
 ],
 "metadata": {
  "kernelspec": {
   "display_name": "Python 3",
   "language": "python",
   "name": "python3"
  },
  "language_info": {
   "codemirror_mode": {
    "name": "ipython",
    "version": 3
   },
   "file_extension": ".py",
   "mimetype": "text/x-python",
   "name": "python",
   "nbconvert_exporter": "python",
   "pygments_lexer": "ipython3",
   "version": "3.11.2"
  },
  "orig_nbformat": 4
 },
 "nbformat": 4,
 "nbformat_minor": 2
}
