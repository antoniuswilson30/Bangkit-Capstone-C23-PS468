{
 "cells": [
  {
   "attachments": {},
   "cell_type": "markdown",
   "metadata": {},
   "source": [
    "#### This code used for collecting images from website"
   ]
  },
  {
   "cell_type": "code",
   "execution_count": 1,
   "metadata": {},
   "outputs": [
    {
     "name": "stdout",
     "output_type": "stream",
     "text": [
      "Failed to download image :0: Invalid URL 'https://:0': No host supplied\n",
      "Image 11396687-3915023393147860.jpg downloaded.\n",
      "Image 11396687-3315023393187427.jpg downloaded.\n",
      "Image 11396687-3915023393147860.jpg downloaded.\n",
      "Image 11396687-3315023393187427.jpg downloaded.\n",
      "Image 11396687.html downloaded.\n",
      "Image 11396687-3915023393147860.jpg downloaded.\n",
      "Image 12056630-6285023394313819.jpg downloaded.\n",
      "Image 11396687-3915023393147860.jpg downloaded.\n",
      "Image 12056630-6285023394313819.jpg downloaded.\n",
      "Image 11396687-3915023393147860.jpg downloaded.\n",
      "Image 12056630-6285023394313819.jpg downloaded.\n",
      "Image theordinary.gif downloaded.\n",
      "Image 11396687-gif.webp downloaded.\n",
      "Image 11363395-2265023392442461.jpg downloaded.\n",
      "Image 11798693-1674776722338440.jpg downloaded.\n",
      "Image 11396687-3915023393147860.jpg downloaded.\n",
      "Image 12056630-6285023394313819.jpg downloaded.\n",
      "Image 11396687-3915023393147860.jpg downloaded.\n",
      "Image 12056630-6285023394313819.jpg downloaded.\n",
      "Image 11396687-3915023393147860.jpg downloaded.\n",
      "Image 12056630-6285023394313819.jpg downloaded.\n",
      "Image 11638505-9675023393773417.jpg downloaded.\n",
      "Image 13082606-1334960484343198.jpg downloaded.\n",
      "Image 11396687.html downloaded.\n",
      "Failed to download image :0: Invalid URL 'https://:0': No host supplied\n",
      "Image 0505-STDCRE-35701-LF-EF-New-Customer-Popup-May-290x97-073015.jpg downloaded.\n"
     ]
    }
   ],
   "source": [
    "from bs4 import BeautifulSoup\n",
    "import requests\n",
    "import os\n",
    "from urllib.parse import urljoin\n",
    "\n",
    "# url = \"https://dermnetnz.org/topics/acne-face-images\"\n",
    "url = \"https://www.lookfantastic.com/the-ordinary-natural-moisturizing-factors-ha-30ml/11396687.html\"\n",
    "response = requests.get(url)\n",
    "soup = BeautifulSoup(response.text, 'html.parser')\n",
    "img_tags = soup.find_all('img')\n",
    "\n",
    "for img in img_tags:\n",
    "    img_url = img['src']\n",
    "    if not img_url.startswith('http'):\n",
    "        img_url = urljoin(url, img_url)\n",
    "    img_name = os.path.basename(img_url)\n",
    "    try:\n",
    "        img_data = requests.get(img_url).content\n",
    "        with open(img_name, 'wb') as f:\n",
    "            f.write(img_data)\n",
    "        print(f\"Image {img_name} downloaded.\")\n",
    "    except requests.exceptions.RequestException as e:\n",
    "        print(f\"Failed to download image {img_name}: {e}\")\n"
   ]
  }
 ],
 "metadata": {
  "kernelspec": {
   "display_name": "Python 3",
   "language": "python",
   "name": "python3"
  },
  "language_info": {
   "codemirror_mode": {
    "name": "ipython",
    "version": 3
   },
   "file_extension": ".py",
   "mimetype": "text/x-python",
   "name": "python",
   "nbconvert_exporter": "python",
   "pygments_lexer": "ipython3",
   "version": "3.11.2"
  },
  "orig_nbformat": 4
 },
 "nbformat": 4,
 "nbformat_minor": 2
}
