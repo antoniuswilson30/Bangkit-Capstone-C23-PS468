{
 "cells": [
  {
   "attachments": {},
   "cell_type": "markdown",
   "metadata": {},
   "source": [
    "#### This code used for collecting images from website"
   ]
  },
  {
   "cell_type": "code",
   "execution_count": null,
   "metadata": {},
   "outputs": [],
   "source": [
    "from bs4 import BeautifulSoup\n",
    "import requests\n",
    "import os\n",
    "from urllib.parse import urljoin\n",
    "\n",
    "# url = \"https://dermnetnz.org/topics/acne-face-images\"\n",
    "url = \"https://www.lookfantastic.com/the-ordinary-natural-moisturizing-factors-ha-30ml/11396687.html\"\n",
    "response = requests.get(url)\n",
    "soup = BeautifulSoup(response.text, 'html.parser')\n",
    "img_tags = soup.find_all('img')\n",
    "\n",
    "for img in img_tags:\n",
    "    img_url = img['src']\n",
    "    if not img_url.startswith('http'):\n",
    "        img_url = urljoin(url, img_url)\n",
    "    img_name = os.path.basename(img_url)\n",
    "    try:\n",
    "        img_data = requests.get(img_url).content\n",
    "        with open(img_name, 'wb') as f:\n",
    "            f.write(img_data)\n",
    "        print(f\"Image {img_name} downloaded.\")\n",
    "    except requests.exceptions.RequestException as e:\n",
    "        print(f\"Failed to download image {img_name}: {e}\")\n"
   ]
  }
 ],
 "metadata": {
  "kernelspec": {
   "display_name": "Python 3",
   "language": "python",
   "name": "python3"
  },
  "language_info": {
   "codemirror_mode": {
    "name": "ipython",
    "version": 3
   },
   "file_extension": ".py",
   "mimetype": "text/x-python",
   "name": "python",
   "nbconvert_exporter": "python",
   "pygments_lexer": "ipython3",
   "version": "3.11.2"
  },
  "orig_nbformat": 4
 },
 "nbformat": 4,
 "nbformat_minor": 2
}
