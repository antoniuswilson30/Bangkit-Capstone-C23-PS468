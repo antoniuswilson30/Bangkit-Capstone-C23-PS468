{
  "cells": [
    {
      "cell_type": "code",
      "execution_count": 2,
      "metadata": {
        "id": "_rjSQHSHw4D8"
      },
      "outputs": [],
      "source": [
        "import matplotlib.pyplot as plt\n",
        "import numpy as np\n",
        "import os\n",
        "import PIL\n",
        "import tensorflow as tf\n",
        "\n",
        "from tensorflow import keras\n",
        "from tensorflow.keras import layers\n",
        "from tensorflow.keras.models import Sequential"
      ]
    },
    {
      "cell_type": "code",
      "execution_count": 2,
      "metadata": {
        "colab": {
          "base_uri": "https://localhost:8080/"
        },
        "id": "P1ofH_XZtbuE",
        "outputId": "d7927967-085a-4b88-fa29-20286cc6382b"
      },
      "outputs": [
        {
          "name": "stdout",
          "output_type": "stream",
          "text": [
            "Mounted at /content/gdrive\n"
          ]
        }
      ],
      "source": [
        "from google.colab import drive\n",
        "drive.mount('/content/gdrive')"
      ]
    },
    {
      "cell_type": "code",
      "execution_count": 3,
      "metadata": {
        "colab": {
          "base_uri": "https://localhost:8080/"
        },
        "id": "lBtxJz_ZtcP7",
        "outputId": "6590ebb3-2fbf-4deb-90ae-5b39de3a70b2"
      },
      "outputs": [
        {
          "name": "stdout",
          "output_type": "stream",
          "text": [
            "/content/gdrive/Shareddrives/Dataset Machine Learning/Dataset/Acneset2\n",
            "acnescan.h5  acnescan_v2.h5  my_model.h5  test\ttrain\n"
          ]
        }
      ],
      "source": [
        "%cd /content/gdrive/Shareddrives/Dataset Machine Learning/Dataset/Acneset2\n",
        "!ls\n"
      ]
    },
    {
      "cell_type": "code",
      "execution_count": 4,
      "metadata": {
        "colab": {
          "base_uri": "https://localhost:8080/"
        },
        "id": "1Wy16-oZte_M",
        "outputId": "77de28b7-3fef-4b99-e1de-d0e93609c825"
      },
      "outputs": [
        {
          "name": "stdout",
          "output_type": "stream",
          "text": [
            "total training Acne nodules images: 71\n",
            "total training blackhead images: 140\n",
            "total training papula images: 70\n",
            "total training pustula images: 139\n",
            "total training whitehead images: 111\n"
          ]
        }
      ],
      "source": [
        "import os\n",
        "nodules_dir = os.path.join('train/nodules')\n",
        "blackhead_dir = os.path.join('train/blackhead')\n",
        "papula_dir = os.path.join('train/papula')\n",
        "pustula_dir = os.path.join('train/pustula')\n",
        "whitehead_dir = os.path.join('train/whitehead')\n",
        "\n",
        "print('total training Acne nodules images:', len(os.listdir(nodules_dir)))\n",
        "print('total training blackhead images:', len(os.listdir(blackhead_dir)))\n",
        "print('total training papula images:', len(os.listdir(papula_dir)))\n",
        "print('total training pustula images:', len(os.listdir(pustula_dir)))\n",
        "print('total training whitehead images:', len(os.listdir(whitehead_dir)))"
      ]
    },
    {
      "cell_type": "code",
      "execution_count": 5,
      "metadata": {
        "id": "iivCzFGptjF6"
      },
      "outputs": [],
      "source": [
        "batch_size = 32\n",
        "img_height = 180\n",
        "img_width = 180\n",
        "TRAINING_DIR = \"../Dataset/train/\"\n",
        "VALIDATION_DIR = \"../Dataset/validation/\""
      ]
    },
    {
      "cell_type": "code",
      "execution_count": 6,
      "metadata": {
        "colab": {
          "base_uri": "https://localhost:8080/"
        },
        "id": "PhGnxoxLtvSu",
        "outputId": "f9f3b403-c465-425d-be16-b4523d5a219c"
      },
      "outputs": [
        {
          "name": "stdout",
          "output_type": "stream",
          "text": [
            "Found 1788 files belonging to 5 classes.\n",
            "Found 472 files belonging to 5 classes.\n"
          ]
        }
      ],
      "source": [
        "train_ds = tf.keras.preprocessing.image_dataset_from_directory(\n",
        "  TRAINING_DIR,\n",
        "  seed=123,\n",
        "  image_size=(img_height, img_width),\n",
        "  batch_size=batch_size)\n",
        "val_ds = tf.keras.preprocessing.image_dataset_from_directory(\n",
        "  VALIDATION_DIR,\n",
        "  seed=123,\n",
        "  image_size=(img_height, img_width),\n",
        "  batch_size=batch_size)"
      ]
    },
    {
      "cell_type": "code",
      "execution_count": 7,
      "metadata": {
        "colab": {
          "base_uri": "https://localhost:8080/"
        },
        "id": "Q1PXu8HHuU6F",
        "outputId": "a821475e-7cf6-4d8d-8f82-f30a629bc776"
      },
      "outputs": [
        {
          "name": "stdout",
          "output_type": "stream",
          "text": [
            "['acne', 'dry', 'normal', 'oily', 'redness']\n"
          ]
        }
      ],
      "source": [
        "class_names = train_ds.class_names\n",
        "print(class_names)\n"
      ]
    },
    {
      "cell_type": "code",
      "execution_count": 8,
      "metadata": {
        "id": "yiQg6qgAzENH"
      },
      "outputs": [
        {
          "name": "stdout",
          "output_type": "stream",
          "text": [
            "WARNING:tensorflow:Using a while_loop for converting RngReadAndSkip cause there is no registered converter for this op.\n",
            "WARNING:tensorflow:Using a while_loop for converting Bitcast cause there is no registered converter for this op.\n",
            "WARNING:tensorflow:Using a while_loop for converting Bitcast cause there is no registered converter for this op.\n",
            "WARNING:tensorflow:Using a while_loop for converting StatelessRandomUniformV2 cause there is no registered converter for this op.\n",
            "WARNING:tensorflow:Using a while_loop for converting ImageProjectiveTransformV3 cause there is no registered converter for this op.\n",
            "WARNING:tensorflow:Using a while_loop for converting RngReadAndSkip cause there is no registered converter for this op.\n",
            "WARNING:tensorflow:Using a while_loop for converting Bitcast cause there is no registered converter for this op.\n",
            "WARNING:tensorflow:Using a while_loop for converting Bitcast cause there is no registered converter for this op.\n",
            "WARNING:tensorflow:Using a while_loop for converting StatelessRandomUniformV2 cause there is no registered converter for this op.\n",
            "WARNING:tensorflow:Using a while_loop for converting ImageProjectiveTransformV3 cause there is no registered converter for this op.\n"
          ]
        }
      ],
      "source": [
        "import warnings\n",
        "warnings.filterwarnings('ignore')\n",
        "\n",
        "data_augmentation = keras.Sequential(\n",
        "  \n",
        "  [\n",
        "    layers.experimental.preprocessing.RandomFlip(\"horizontal\", \n",
        "                                                 input_shape=(img_height, \n",
        "                                                              img_width,\n",
        "                                                              3)),\n",
        "    layers.experimental.preprocessing.RandomRotation(0.1),\n",
        "    layers.experimental.preprocessing.RandomZoom(0.1),\n",
        "  ]\n",
        ")"
      ]
    },
    {
      "cell_type": "code",
      "execution_count": 9,
      "metadata": {
        "id": "kjv4rf5KvnOh"
      },
      "outputs": [
        {
          "name": "stdout",
          "output_type": "stream",
          "text": [
            "WARNING:tensorflow:Using a while_loop for converting RngReadAndSkip cause there is no registered converter for this op.\n",
            "WARNING:tensorflow:Using a while_loop for converting Bitcast cause there is no registered converter for this op.\n",
            "WARNING:tensorflow:Using a while_loop for converting Bitcast cause there is no registered converter for this op.\n",
            "WARNING:tensorflow:Using a while_loop for converting StatelessRandomUniformV2 cause there is no registered converter for this op.\n",
            "WARNING:tensorflow:Using a while_loop for converting ImageProjectiveTransformV3 cause there is no registered converter for this op.\n",
            "WARNING:tensorflow:Using a while_loop for converting RngReadAndSkip cause there is no registered converter for this op.\n",
            "WARNING:tensorflow:Using a while_loop for converting Bitcast cause there is no registered converter for this op.\n",
            "WARNING:tensorflow:Using a while_loop for converting Bitcast cause there is no registered converter for this op.\n",
            "WARNING:tensorflow:Using a while_loop for converting StatelessRandomUniformV2 cause there is no registered converter for this op.\n",
            "WARNING:tensorflow:Using a while_loop for converting ImageProjectiveTransformV3 cause there is no registered converter for this op.\n"
          ]
        }
      ],
      "source": [
        "import warnings\n",
        "warnings.filterwarnings('ignore')\n",
        "\n",
        "num_classes = 5\n",
        "\n",
        "model = Sequential([\n",
        "  data_augmentation,\n",
        "  layers.experimental.preprocessing.Rescaling(1./255),\n",
        "  layers.Conv2D(32, 3, padding='same', activation='relu'),\n",
        "  layers.MaxPooling2D(),\n",
        "  layers.Conv2D(64, 3, padding='same', activation='relu'),\n",
        "  layers.MaxPooling2D(),\n",
        "  layers.Conv2D(128, 3, padding='same', activation='relu'),\n",
        "  layers.MaxPooling2D(),\n",
        "  layers.Dropout(0.2),\n",
        "  layers.Flatten(),\n",
        "  layers.Dense(128, activation='relu'),\n",
        "  layers.Dense(num_classes)\n",
        "])"
      ]
    },
    {
      "cell_type": "code",
      "execution_count": 18,
      "metadata": {
        "colab": {
          "base_uri": "https://localhost:8080/"
        },
        "id": "yqmU0Z53wbwr",
        "outputId": "a166db6a-c382-4f7a-91c4-5acfdd10c6a0"
      },
      "outputs": [
        {
          "name": "stdout",
          "output_type": "stream",
          "text": [
            "Epoch 1/100\n",
            "WARNING:tensorflow:Using a while_loop for converting RngReadAndSkip cause there is no registered converter for this op.\n",
            "WARNING:tensorflow:Using a while_loop for converting Bitcast cause there is no registered converter for this op.\n",
            "WARNING:tensorflow:Using a while_loop for converting Bitcast cause there is no registered converter for this op.\n",
            "WARNING:tensorflow:Using a while_loop for converting StatelessRandomUniformV2 cause there is no registered converter for this op.\n",
            "WARNING:tensorflow:Using a while_loop for converting ImageProjectiveTransformV3 cause there is no registered converter for this op.\n",
            "WARNING:tensorflow:Using a while_loop for converting RngReadAndSkip cause there is no registered converter for this op.\n",
            "WARNING:tensorflow:Using a while_loop for converting Bitcast cause there is no registered converter for this op.\n",
            "WARNING:tensorflow:Using a while_loop for converting Bitcast cause there is no registered converter for this op.\n",
            "WARNING:tensorflow:Using a while_loop for converting StatelessRandomUniformV2 cause there is no registered converter for this op.\n",
            "WARNING:tensorflow:Using a while_loop for converting ImageProjectiveTransformV3 cause there is no registered converter for this op.\n",
            "WARNING:tensorflow:Using a while_loop for converting RngReadAndSkip cause there is no registered converter for this op.\n",
            "WARNING:tensorflow:Using a while_loop for converting Bitcast cause there is no registered converter for this op.\n",
            "WARNING:tensorflow:Using a while_loop for converting Bitcast cause there is no registered converter for this op.\n",
            "WARNING:tensorflow:Using a while_loop for converting StatelessRandomUniformV2 cause there is no registered converter for this op.\n",
            "WARNING:tensorflow:Using a while_loop for converting ImageProjectiveTransformV3 cause there is no registered converter for this op.\n",
            "WARNING:tensorflow:Using a while_loop for converting RngReadAndSkip cause there is no registered converter for this op.\n",
            "WARNING:tensorflow:Using a while_loop for converting Bitcast cause there is no registered converter for this op.\n",
            "WARNING:tensorflow:Using a while_loop for converting Bitcast cause there is no registered converter for this op.\n",
            "WARNING:tensorflow:Using a while_loop for converting StatelessRandomUniformV2 cause there is no registered converter for this op.\n",
            "WARNING:tensorflow:Using a while_loop for converting ImageProjectiveTransformV3 cause there is no registered converter for this op.\n",
            "56/56 [==============================] - 77s 1s/step - loss: 1.1062 - accuracy: 0.6225 - val_loss: 2.2651 - val_accuracy: 0.4725\n",
            "Epoch 2/100\n",
            "56/56 [==============================] - 68s 1s/step - loss: 0.7229 - accuracy: 0.7522 - val_loss: 2.0871 - val_accuracy: 0.5212\n",
            "Epoch 3/100\n",
            "56/56 [==============================] - 71s 1s/step - loss: 0.6578 - accuracy: 0.7623 - val_loss: 1.8933 - val_accuracy: 0.5064\n",
            "Epoch 4/100\n",
            "56/56 [==============================] - 68s 1s/step - loss: 0.6082 - accuracy: 0.7864 - val_loss: 2.2066 - val_accuracy: 0.5275\n",
            "Epoch 5/100\n",
            "56/56 [==============================] - 69s 1s/step - loss: 0.5937 - accuracy: 0.7858 - val_loss: 2.6759 - val_accuracy: 0.4979\n",
            "Epoch 6/100\n",
            "56/56 [==============================] - 68s 1s/step - loss: 0.5445 - accuracy: 0.8070 - val_loss: 2.8804 - val_accuracy: 0.4449\n",
            "Epoch 7/100\n",
            "56/56 [==============================] - 69s 1s/step - loss: 0.5232 - accuracy: 0.8031 - val_loss: 2.5927 - val_accuracy: 0.5572\n",
            "Epoch 8/100\n",
            "56/56 [==============================] - 70s 1s/step - loss: 0.5273 - accuracy: 0.8065 - val_loss: 3.0173 - val_accuracy: 0.4746\n",
            "Epoch 9/100\n",
            "56/56 [==============================] - 69s 1s/step - loss: 0.4738 - accuracy: 0.8283 - val_loss: 2.9163 - val_accuracy: 0.4492\n",
            "Epoch 10/100\n",
            "56/56 [==============================] - 68s 1s/step - loss: 0.4712 - accuracy: 0.8333 - val_loss: 4.1357 - val_accuracy: 0.3877\n",
            "Epoch 11/100\n",
            "56/56 [==============================] - 73s 1s/step - loss: 0.4242 - accuracy: 0.8395 - val_loss: 3.4036 - val_accuracy: 0.5000\n",
            "Epoch 12/100\n",
            "56/56 [==============================] - 77s 1s/step - loss: 0.4234 - accuracy: 0.8428 - val_loss: 2.8359 - val_accuracy: 0.5847\n",
            "Epoch 13/100\n",
            "56/56 [==============================] - 77s 1s/step - loss: 0.4101 - accuracy: 0.8535 - val_loss: 3.3343 - val_accuracy: 0.5233\n",
            "Epoch 14/100\n",
            "56/56 [==============================] - 80s 1s/step - loss: 0.3907 - accuracy: 0.8563 - val_loss: 3.7230 - val_accuracy: 0.4555\n",
            "Epoch 15/100\n",
            "56/56 [==============================] - 69s 1s/step - loss: 0.3921 - accuracy: 0.8529 - val_loss: 4.3478 - val_accuracy: 0.4513\n",
            "Epoch 16/100\n",
            "56/56 [==============================] - 69s 1s/step - loss: 0.3714 - accuracy: 0.8563 - val_loss: 3.8826 - val_accuracy: 0.5085\n",
            "Epoch 17/100\n",
            "56/56 [==============================] - 74s 1s/step - loss: 0.3642 - accuracy: 0.8635 - val_loss: 4.6689 - val_accuracy: 0.4513\n",
            "Epoch 18/100\n",
            "56/56 [==============================] - 80s 1s/step - loss: 0.3636 - accuracy: 0.8624 - val_loss: 4.7195 - val_accuracy: 0.4788\n",
            "Epoch 19/100\n",
            "56/56 [==============================] - 86s 1s/step - loss: 0.3406 - accuracy: 0.8730 - val_loss: 5.4571 - val_accuracy: 0.3792\n",
            "Epoch 20/100\n",
            "56/56 [==============================] - 70s 1s/step - loss: 0.3642 - accuracy: 0.8647 - val_loss: 4.5005 - val_accuracy: 0.5636\n",
            "Epoch 21/100\n",
            "56/56 [==============================] - 70s 1s/step - loss: 0.3244 - accuracy: 0.8803 - val_loss: 4.5801 - val_accuracy: 0.5530\n",
            "Epoch 22/100\n",
            "56/56 [==============================] - 68s 1s/step - loss: 0.3111 - accuracy: 0.8781 - val_loss: 5.0847 - val_accuracy: 0.5403\n",
            "Epoch 23/100\n",
            "56/56 [==============================] - 79s 1s/step - loss: 0.3234 - accuracy: 0.8781 - val_loss: 6.5267 - val_accuracy: 0.4068\n",
            "Epoch 24/100\n",
            "56/56 [==============================] - 67s 1s/step - loss: 0.2880 - accuracy: 0.8954 - val_loss: 6.4210 - val_accuracy: 0.4047\n",
            "Epoch 25/100\n",
            "56/56 [==============================] - 67s 1s/step - loss: 0.2519 - accuracy: 0.9055 - val_loss: 5.7940 - val_accuracy: 0.4852\n",
            "Epoch 26/100\n",
            "56/56 [==============================] - 67s 1s/step - loss: 0.2381 - accuracy: 0.9055 - val_loss: 6.6904 - val_accuracy: 0.5085\n",
            "Epoch 27/100\n",
            "56/56 [==============================] - 67s 1s/step - loss: 0.2448 - accuracy: 0.9116 - val_loss: 5.8678 - val_accuracy: 0.5699\n",
            "Epoch 28/100\n",
            "56/56 [==============================] - 68s 1s/step - loss: 0.2281 - accuracy: 0.9094 - val_loss: 6.5828 - val_accuracy: 0.5678\n",
            "Epoch 29/100\n",
            "56/56 [==============================] - 67s 1s/step - loss: 0.2180 - accuracy: 0.9211 - val_loss: 7.5330 - val_accuracy: 0.4110\n",
            "Epoch 30/100\n",
            "56/56 [==============================] - 67s 1s/step - loss: 0.2118 - accuracy: 0.9217 - val_loss: 7.7484 - val_accuracy: 0.4301\n",
            "Epoch 31/100\n",
            "56/56 [==============================] - 67s 1s/step - loss: 0.2313 - accuracy: 0.9072 - val_loss: 8.1952 - val_accuracy: 0.3983\n",
            "Epoch 32/100\n",
            "56/56 [==============================] - 67s 1s/step - loss: 0.1994 - accuracy: 0.9189 - val_loss: 8.2348 - val_accuracy: 0.4788\n",
            "Epoch 33/100\n",
            "56/56 [==============================] - 67s 1s/step - loss: 0.2019 - accuracy: 0.9245 - val_loss: 7.7390 - val_accuracy: 0.4703\n",
            "Epoch 34/100\n",
            "56/56 [==============================] - 68s 1s/step - loss: 0.2011 - accuracy: 0.9256 - val_loss: 7.6693 - val_accuracy: 0.5000\n",
            "Epoch 35/100\n",
            "56/56 [==============================] - 67s 1s/step - loss: 0.1851 - accuracy: 0.9301 - val_loss: 7.9287 - val_accuracy: 0.5466\n",
            "Epoch 36/100\n",
            "56/56 [==============================] - 71s 1s/step - loss: 0.1525 - accuracy: 0.9435 - val_loss: 6.8921 - val_accuracy: 0.5297\n",
            "Epoch 37/100\n",
            "56/56 [==============================] - 70s 1s/step - loss: 0.1449 - accuracy: 0.9497 - val_loss: 7.4673 - val_accuracy: 0.5339\n",
            "Epoch 38/100\n",
            "56/56 [==============================] - 74s 1s/step - loss: 0.1382 - accuracy: 0.9513 - val_loss: 9.2879 - val_accuracy: 0.4449\n",
            "Epoch 39/100\n",
            "56/56 [==============================] - 77s 1s/step - loss: 0.1775 - accuracy: 0.9368 - val_loss: 9.1336 - val_accuracy: 0.4216\n",
            "Epoch 40/100\n",
            "56/56 [==============================] - 101s 2s/step - loss: 0.1726 - accuracy: 0.9452 - val_loss: 8.9413 - val_accuracy: 0.5805\n",
            "Epoch 41/100\n",
            "56/56 [==============================] - 111s 2s/step - loss: 0.1529 - accuracy: 0.9452 - val_loss: 10.2586 - val_accuracy: 0.4661\n",
            "Epoch 42/100\n",
            "56/56 [==============================] - 98s 2s/step - loss: 0.1991 - accuracy: 0.9189 - val_loss: 11.1796 - val_accuracy: 0.5021\n",
            "Epoch 43/100\n",
            "56/56 [==============================] - 92s 2s/step - loss: 0.1979 - accuracy: 0.9262 - val_loss: 9.0458 - val_accuracy: 0.4894\n",
            "Epoch 44/100\n",
            "56/56 [==============================] - 87s 1s/step - loss: 0.1485 - accuracy: 0.9480 - val_loss: 10.7233 - val_accuracy: 0.4746\n",
            "Epoch 45/100\n",
            "56/56 [==============================] - 90s 1s/step - loss: 0.1250 - accuracy: 0.9553 - val_loss: 9.4304 - val_accuracy: 0.5360\n",
            "Epoch 46/100\n",
            "56/56 [==============================] - 88s 1s/step - loss: 0.1075 - accuracy: 0.9603 - val_loss: 11.3914 - val_accuracy: 0.5212\n",
            "Epoch 47/100\n",
            "56/56 [==============================] - 99s 2s/step - loss: 0.1132 - accuracy: 0.9525 - val_loss: 10.6845 - val_accuracy: 0.4809\n",
            "Epoch 48/100\n",
            "56/56 [==============================] - 86s 1s/step - loss: 0.1301 - accuracy: 0.9569 - val_loss: 9.4348 - val_accuracy: 0.5000\n",
            "Epoch 49/100\n",
            "56/56 [==============================] - 101s 2s/step - loss: 0.1246 - accuracy: 0.9547 - val_loss: 9.1138 - val_accuracy: 0.5847\n",
            "Epoch 50/100\n",
            "56/56 [==============================] - 127s 2s/step - loss: 0.1002 - accuracy: 0.9664 - val_loss: 9.5229 - val_accuracy: 0.5318\n",
            "Epoch 51/100\n",
            "56/56 [==============================] - 93s 2s/step - loss: 0.0914 - accuracy: 0.9692 - val_loss: 9.9999 - val_accuracy: 0.5275\n",
            "Epoch 52/100\n",
            "56/56 [==============================] - 97s 2s/step - loss: 0.1469 - accuracy: 0.9508 - val_loss: 10.9055 - val_accuracy: 0.4831\n",
            "Epoch 53/100\n",
            "56/56 [==============================] - 100s 2s/step - loss: 0.1478 - accuracy: 0.9435 - val_loss: 9.4955 - val_accuracy: 0.4364\n",
            "Epoch 54/100\n",
            "56/56 [==============================] - 95s 2s/step - loss: 0.1238 - accuracy: 0.9609 - val_loss: 8.4481 - val_accuracy: 0.5212\n",
            "Epoch 55/100\n",
            "56/56 [==============================] - 69s 1s/step - loss: 0.1276 - accuracy: 0.9547 - val_loss: 8.2564 - val_accuracy: 0.4894\n",
            "Epoch 56/100\n",
            "56/56 [==============================] - 68s 1s/step - loss: 0.1107 - accuracy: 0.9625 - val_loss: 13.0685 - val_accuracy: 0.4280\n",
            "Epoch 57/100\n",
            "56/56 [==============================] - 68s 1s/step - loss: 0.1305 - accuracy: 0.9530 - val_loss: 10.4650 - val_accuracy: 0.5127\n",
            "Epoch 58/100\n",
            "56/56 [==============================] - 68s 1s/step - loss: 0.1047 - accuracy: 0.9642 - val_loss: 12.4333 - val_accuracy: 0.5021\n",
            "Epoch 59/100\n",
            "56/56 [==============================] - 69s 1s/step - loss: 0.1728 - accuracy: 0.9396 - val_loss: 11.8539 - val_accuracy: 0.5254\n",
            "Epoch 60/100\n",
            "56/56 [==============================] - 85s 1s/step - loss: 0.1006 - accuracy: 0.9636 - val_loss: 13.0098 - val_accuracy: 0.4258\n",
            "Epoch 61/100\n",
            "56/56 [==============================] - 106s 2s/step - loss: 0.0897 - accuracy: 0.9642 - val_loss: 11.2722 - val_accuracy: 0.5339\n",
            "Epoch 62/100\n",
            "56/56 [==============================] - 79s 1s/step - loss: 0.0805 - accuracy: 0.9726 - val_loss: 11.7755 - val_accuracy: 0.5403\n",
            "Epoch 63/100\n",
            "56/56 [==============================] - 69s 1s/step - loss: 0.0802 - accuracy: 0.9748 - val_loss: 12.2331 - val_accuracy: 0.5403\n",
            "Epoch 64/100\n",
            "56/56 [==============================] - 69s 1s/step - loss: 0.0715 - accuracy: 0.9754 - val_loss: 10.8106 - val_accuracy: 0.5127\n",
            "Epoch 65/100\n",
            "56/56 [==============================] - 69s 1s/step - loss: 0.0868 - accuracy: 0.9709 - val_loss: 13.6749 - val_accuracy: 0.5445\n",
            "Epoch 66/100\n",
            "56/56 [==============================] - 88s 1s/step - loss: 0.0956 - accuracy: 0.9692 - val_loss: 10.4869 - val_accuracy: 0.5275\n",
            "Epoch 67/100\n",
            "56/56 [==============================] - 106s 2s/step - loss: 0.1137 - accuracy: 0.9592 - val_loss: 13.5777 - val_accuracy: 0.5254\n",
            "Epoch 68/100\n",
            "56/56 [==============================] - 106s 2s/step - loss: 0.1043 - accuracy: 0.9631 - val_loss: 14.2415 - val_accuracy: 0.4831\n",
            "Epoch 69/100\n",
            "56/56 [==============================] - 107s 2s/step - loss: 0.0716 - accuracy: 0.9754 - val_loss: 14.2384 - val_accuracy: 0.5233\n",
            "Epoch 70/100\n",
            "56/56 [==============================] - 108s 2s/step - loss: 0.1083 - accuracy: 0.9586 - val_loss: 14.6776 - val_accuracy: 0.5212\n",
            "Epoch 71/100\n",
            "56/56 [==============================] - 149s 3s/step - loss: 0.1117 - accuracy: 0.9664 - val_loss: 10.7458 - val_accuracy: 0.5275\n",
            "Epoch 72/100\n",
            "56/56 [==============================] - 124s 2s/step - loss: 0.0734 - accuracy: 0.9754 - val_loss: 13.4396 - val_accuracy: 0.4852\n",
            "Epoch 73/100\n",
            "56/56 [==============================] - 131s 2s/step - loss: 0.0643 - accuracy: 0.9810 - val_loss: 14.2746 - val_accuracy: 0.4216\n",
            "Epoch 74/100\n",
            "56/56 [==============================] - 128s 2s/step - loss: 0.0815 - accuracy: 0.9748 - val_loss: 13.8958 - val_accuracy: 0.4089\n",
            "Epoch 75/100\n",
            "56/56 [==============================] - 108s 2s/step - loss: 0.0982 - accuracy: 0.9653 - val_loss: 7.3664 - val_accuracy: 0.5678\n",
            "Epoch 76/100\n",
            "56/56 [==============================] - 114s 2s/step - loss: 0.0649 - accuracy: 0.9815 - val_loss: 9.5724 - val_accuracy: 0.5064\n",
            "Epoch 77/100\n",
            "56/56 [==============================] - 123s 2s/step - loss: 0.0617 - accuracy: 0.9793 - val_loss: 12.2952 - val_accuracy: 0.3792\n",
            "Epoch 78/100\n",
            "56/56 [==============================] - 127s 2s/step - loss: 0.0589 - accuracy: 0.9793 - val_loss: 11.2003 - val_accuracy: 0.4576\n",
            "Epoch 79/100\n",
            "56/56 [==============================] - 141s 2s/step - loss: 0.0484 - accuracy: 0.9849 - val_loss: 11.1924 - val_accuracy: 0.4852\n",
            "Epoch 80/100\n",
            "56/56 [==============================] - 134s 2s/step - loss: 0.0630 - accuracy: 0.9771 - val_loss: 11.1270 - val_accuracy: 0.4809\n",
            "Epoch 81/100\n",
            "56/56 [==============================] - 137s 2s/step - loss: 0.1025 - accuracy: 0.9681 - val_loss: 9.2449 - val_accuracy: 0.5636\n",
            "Epoch 82/100\n",
            "56/56 [==============================] - 124s 2s/step - loss: 0.0796 - accuracy: 0.9715 - val_loss: 10.0322 - val_accuracy: 0.5148\n",
            "Epoch 83/100\n",
            "56/56 [==============================] - 107s 2s/step - loss: 0.0546 - accuracy: 0.9799 - val_loss: 10.4942 - val_accuracy: 0.5360\n",
            "Epoch 84/100\n",
            "56/56 [==============================] - 99s 2s/step - loss: 0.0522 - accuracy: 0.9843 - val_loss: 9.9058 - val_accuracy: 0.5551\n",
            "Epoch 85/100\n",
            "56/56 [==============================] - 99s 2s/step - loss: 0.0411 - accuracy: 0.9871 - val_loss: 13.3066 - val_accuracy: 0.4682\n",
            "Epoch 86/100\n",
            "56/56 [==============================] - 104s 2s/step - loss: 0.0532 - accuracy: 0.9832 - val_loss: 11.9078 - val_accuracy: 0.5445\n",
            "Epoch 87/100\n",
            "56/56 [==============================] - 104s 2s/step - loss: 0.0413 - accuracy: 0.9888 - val_loss: 11.3885 - val_accuracy: 0.5275\n",
            "Epoch 88/100\n",
            "56/56 [==============================] - 102s 2s/step - loss: 0.0606 - accuracy: 0.9815 - val_loss: 14.3418 - val_accuracy: 0.4894\n",
            "Epoch 89/100\n",
            "56/56 [==============================] - 102s 2s/step - loss: 0.0512 - accuracy: 0.9866 - val_loss: 12.2073 - val_accuracy: 0.5000\n",
            "Epoch 90/100\n",
            "56/56 [==============================] - 104s 2s/step - loss: 0.1233 - accuracy: 0.9581 - val_loss: 15.6072 - val_accuracy: 0.5699\n",
            "Epoch 91/100\n",
            "56/56 [==============================] - 98s 2s/step - loss: 0.0914 - accuracy: 0.9670 - val_loss: 12.2524 - val_accuracy: 0.5297\n",
            "Epoch 92/100\n",
            "56/56 [==============================] - 109s 2s/step - loss: 0.0654 - accuracy: 0.9793 - val_loss: 12.6932 - val_accuracy: 0.5593\n",
            "Epoch 93/100\n",
            "56/56 [==============================] - 107s 2s/step - loss: 0.0424 - accuracy: 0.9849 - val_loss: 12.6652 - val_accuracy: 0.5636\n",
            "Epoch 94/100\n",
            "56/56 [==============================] - 107s 2s/step - loss: 0.0707 - accuracy: 0.9760 - val_loss: 13.8493 - val_accuracy: 0.4661\n",
            "Epoch 95/100\n",
            "56/56 [==============================] - 106s 2s/step - loss: 0.0584 - accuracy: 0.9832 - val_loss: 13.7504 - val_accuracy: 0.4767\n",
            "Epoch 96/100\n",
            "56/56 [==============================] - 107s 2s/step - loss: 0.0915 - accuracy: 0.9720 - val_loss: 11.1070 - val_accuracy: 0.5975\n",
            "Epoch 97/100\n",
            "56/56 [==============================] - 104s 2s/step - loss: 0.1167 - accuracy: 0.9687 - val_loss: 10.8348 - val_accuracy: 0.4936\n",
            "Epoch 98/100\n",
            "56/56 [==============================] - 103s 2s/step - loss: 0.0640 - accuracy: 0.9726 - val_loss: 11.8822 - val_accuracy: 0.4894\n",
            "Epoch 99/100\n",
            "56/56 [==============================] - 85s 1s/step - loss: 0.1201 - accuracy: 0.9698 - val_loss: 12.0370 - val_accuracy: 0.5699\n",
            "Epoch 100/100\n",
            "56/56 [==============================] - 100s 2s/step - loss: 0.0625 - accuracy: 0.9799 - val_loss: 13.0176 - val_accuracy: 0.5254\n"
          ]
        }
      ],
      "source": [
        "model.compile(optimizer='adam',\n",
        "              loss=tf.keras.losses.SparseCategoricalCrossentropy(from_logits=True),\n",
        "              metrics=['accuracy'])\n",
        "epochs=100\n",
        "history = model.fit(\n",
        "  train_ds,\n",
        "  validation_data=val_ds,\n",
        "  epochs=epochs\n",
        ")"
      ]
    },
    {
      "cell_type": "code",
      "execution_count": 1,
      "metadata": {
        "colab": {
          "base_uri": "https://localhost:8080/",
          "height": 499
        },
        "id": "B18Qn1hKxGab",
        "outputId": "9dbd87fc-a238-46e2-9b0c-96314278cb4b"
      },
      "outputs": [
        {
          "ename": "NameError",
          "evalue": "name 'history' is not defined",
          "output_type": "error",
          "traceback": [
            "\u001b[1;31m---------------------------------------------------------------------------\u001b[0m",
            "\u001b[1;31mNameError\u001b[0m                                 Traceback (most recent call last)",
            "Cell \u001b[1;32mIn[1], line 1\u001b[0m\n\u001b[1;32m----> 1\u001b[0m acc \u001b[39m=\u001b[39m history\u001b[39m.\u001b[39mhistory[\u001b[39m'\u001b[39m\u001b[39maccuracy\u001b[39m\u001b[39m'\u001b[39m]\n\u001b[0;32m      2\u001b[0m val_acc \u001b[39m=\u001b[39m history\u001b[39m.\u001b[39mhistory[\u001b[39m'\u001b[39m\u001b[39mval_accuracy\u001b[39m\u001b[39m'\u001b[39m]\n\u001b[0;32m      4\u001b[0m loss \u001b[39m=\u001b[39m history\u001b[39m.\u001b[39mhistory[\u001b[39m'\u001b[39m\u001b[39mloss\u001b[39m\u001b[39m'\u001b[39m]\n",
            "\u001b[1;31mNameError\u001b[0m: name 'history' is not defined"
          ]
        }
      ],
      "source": [
        "acc = history.history['accuracy']\n",
        "val_acc = history.history['val_accuracy']\n",
        "\n",
        "loss = history.history['loss']\n",
        "val_loss = history.history['val_loss']\n",
        "\n",
        "epochs_range = range(epochs)\n",
        "\n",
        "plt.figure(figsize=(8, 8))\n",
        "plt.subplot(1, 2, 1)\n",
        "plt.plot(epochs_range, acc, label='Training Accuracy')\n",
        "plt.plot(epochs_range, val_acc, label='Validation Accuracy')\n",
        "plt.legend(loc='lower right')\n",
        "plt.title('Training and Validation Accuracy')\n",
        "\n",
        "plt.subplot(1, 2, 2)\n",
        "plt.plot(epochs_range, loss, label='Training Loss')\n",
        "plt.plot(epochs_range, val_loss, label='Validation Loss')\n",
        "plt.legend(loc='upper right')\n",
        "plt.title('Training and Validation Loss')\n",
        "plt.show()"
      ]
    },
    {
      "cell_type": "code",
      "execution_count": null,
      "metadata": {
        "id": "7QTIKE387p1V"
      },
      "outputs": [],
      "source": [
        "# Save the entire model to a HDF5 file.\n",
        "# The '.h5' extension indicates that the model should be saved to HDF5.\n",
        "\n",
        "model.save('acnescan_v2.h5')"
      ]
    },
    {
      "cell_type": "code",
      "execution_count": 16,
      "metadata": {
        "id": "nzRQIvVs7wrl"
      },
      "outputs": [],
      "source": [
        "from keras.models import load_model\n",
        "\n",
        "# returns a compiled model\n",
        "# identical to the previous one\n",
        "new_model= tf.keras.models.load_model(filepath=\"acnescan_v2.h5\")\n"
      ]
    },
    {
      "cell_type": "code",
      "execution_count": 19,
      "metadata": {
        "colab": {
          "base_uri": "https://localhost:8080/",
          "height": 88,
          "resources": {
            "http://localhost:8080/nbextensions/google.colab/files.js": {
              "data": "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",
              "headers": [
                [
                  "content-type",
                  "application/javascript"
                ]
              ],
              "ok": true,
              "status": 200,
              "status_text": ""
            }
          }
        },
        "id": "gQs8LdNriePj",
        "outputId": "c980d6c6-a70f-4300-e489-cba09362c6be"
      },
      "outputs": [
        {
          "data": {
            "text/html": [
              "\n",
              "     <input type=\"file\" id=\"files-f5709679-7560-4b99-89bc-b39b7b96a56f\" name=\"files[]\" multiple disabled\n",
              "        style=\"border:none\" />\n",
              "     <output id=\"result-f5709679-7560-4b99-89bc-b39b7b96a56f\">\n",
              "      Upload widget is only available when the cell has been executed in the\n",
              "      current browser session. Please rerun this cell to enable.\n",
              "      </output>\n",
              "      <script src=\"/nbextensions/google.colab/files.js\"></script> "
            ],
            "text/plain": [
              "<IPython.core.display.HTML object>"
            ]
          },
          "metadata": {
            "tags": []
          },
          "output_type": "display_data"
        },
        {
          "name": "stdout",
          "output_type": "stream",
          "text": [
            "Saving Blackhead.jpg to Blackhead.jpg\n",
            "This image most likely belongs to blackhead with a 81.85 percent confidence.\n"
          ]
        }
      ],
      "source": [
        "import numpy as np\n",
        "from google.colab import files\n",
        "from keras.preprocessing import image\n",
        "\n",
        "uploaded = files.upload()\n",
        "\n",
        "for fn in uploaded.keys():\n",
        " \n",
        "  # predicting images\n",
        "  path = fn\n",
        "  img = keras.preprocessing.image.load_img(\n",
        "      path, target_size=(img_height, img_width)\n",
        "  )\n",
        "  img_array = keras.preprocessing.image.img_to_array(img)\n",
        "  img_array = tf.expand_dims(img_array, 0) # Create a batch\n",
        "\n",
        "  predictions = model.predict(img_array)\n",
        "  score = tf.nn.softmax(predictions[0])\n",
        "\n",
        "  print(\n",
        "      \"This image most likely belongs to {} with a {:.2f} percent confidence.\"\n",
        "      .format(class_names[np.argmax(score)], 100 * np.max(score))\n",
        "  )\n",
        " "
      ]
    },
    {
      "cell_type": "code",
      "execution_count": 18,
      "metadata": {
        "colab": {
          "base_uri": "https://localhost:8080/"
        },
        "id": "9xfkFIjOmCwA",
        "outputId": "c273c37f-aedc-475d-e9e0-d45f1d5d5420"
      },
      "outputs": [
        {
          "name": "stdout",
          "output_type": "stream",
          "text": [
            "INFO:tensorflow:Assets written to: /tmp/tmp8l9ocdpg/assets\n"
          ]
        }
      ],
      "source": [
        "# Convert the model.\n",
        "converter = tf.lite.TFLiteConverter.from_keras_model(new_model)\n",
        "tflite_model = converter.convert()\n",
        "\n",
        "# Save the TF Lite model.\n",
        "with tf.io.gfile.GFile('acnescan_V2.tflite', 'wb') as f:\n",
        "  f.write(tflite_model)"
      ]
    },
    {
      "attachments": {},
      "cell_type": "markdown",
      "metadata": {
        "id": "2AUVmf5jwbpZ"
      },
      "source": []
    },
    {
      "attachments": {},
      "cell_type": "markdown",
      "metadata": {
        "id": "5ilQEdkstYx1"
      },
      "source": []
    }
  ],
  "metadata": {
    "colab": {
      "name": "Acnescan_v2.ipynb",
      "provenance": [],
      "toc_visible": true
    },
    "kernelspec": {
      "display_name": "Python 3",
      "name": "python3"
    },
    "language_info": {
      "codemirror_mode": {
        "name": "ipython",
        "version": 3
      },
      "file_extension": ".py",
      "mimetype": "text/x-python",
      "name": "python",
      "nbconvert_exporter": "python",
      "pygments_lexer": "ipython3",
      "version": "3.10.11"
    }
  },
  "nbformat": 4,
  "nbformat_minor": 0
}
