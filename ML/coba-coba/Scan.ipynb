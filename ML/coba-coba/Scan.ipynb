{
  "cells": [
    {
      "cell_type": "code",
      "execution_count": 1,
      "metadata": {
        "id": "_rjSQHSHw4D8"
      },
      "outputs": [],
      "source": [
        "import matplotlib.pyplot as plt\n",
        "import numpy as np\n",
        "import os\n",
        "import PIL\n",
        "import tensorflow as tf\n",
        "\n",
        "from tensorflow import keras\n",
        "from tensorflow.keras import layers\n",
        "from tensorflow.keras.models import Sequential"
      ]
    },
    {
      "cell_type": "code",
      "execution_count": 2,
      "metadata": {
        "id": "iivCzFGptjF6"
      },
      "outputs": [],
      "source": [
        "batch_size = 32\n",
        "img_height = 180\n",
        "img_width = 180\n",
        "TRAINING_DIR = \"../Dataset/train/\"\n",
        "VALIDATION_DIR = \"../Dataset/validation/\""
      ]
    },
    {
      "cell_type": "code",
      "execution_count": 3,
      "metadata": {
        "colab": {
          "base_uri": "https://localhost:8080/"
        },
        "id": "PhGnxoxLtvSu",
        "outputId": "f9f3b403-c465-425d-be16-b4523d5a219c"
      },
      "outputs": [
        {
          "name": "stdout",
          "output_type": "stream",
          "text": [
            "Found 1788 files belonging to 5 classes.\n",
            "Found 472 files belonging to 5 classes.\n"
          ]
        }
      ],
      "source": [
        "train_ds = tf.keras.preprocessing.image_dataset_from_directory(\n",
        "  TRAINING_DIR,\n",
        "  seed=123,\n",
        "  image_size=(img_height, img_width),\n",
        "  batch_size=batch_size)\n",
        "val_ds = tf.keras.preprocessing.image_dataset_from_directory(\n",
        "  VALIDATION_DIR,\n",
        "  seed=123,\n",
        "  image_size=(img_height, img_width),\n",
        "  batch_size=batch_size)"
      ]
    },
    {
      "cell_type": "code",
      "execution_count": 4,
      "metadata": {
        "colab": {
          "base_uri": "https://localhost:8080/"
        },
        "id": "Q1PXu8HHuU6F",
        "outputId": "a821475e-7cf6-4d8d-8f82-f30a629bc776"
      },
      "outputs": [
        {
          "name": "stdout",
          "output_type": "stream",
          "text": [
            "['acne', 'dry', 'normal', 'oily', 'redness']\n"
          ]
        }
      ],
      "source": [
        "class_names = train_ds.class_names\n",
        "print(class_names)\n"
      ]
    },
    {
      "cell_type": "code",
      "execution_count": 5,
      "metadata": {
        "id": "yiQg6qgAzENH"
      },
      "outputs": [
        {
          "name": "stdout",
          "output_type": "stream",
          "text": [
            "WARNING:tensorflow:Using a while_loop for converting RngReadAndSkip cause there is no registered converter for this op.\n",
            "WARNING:tensorflow:Using a while_loop for converting Bitcast cause there is no registered converter for this op.\n",
            "WARNING:tensorflow:Using a while_loop for converting Bitcast cause there is no registered converter for this op.\n",
            "WARNING:tensorflow:Using a while_loop for converting StatelessRandomUniformV2 cause there is no registered converter for this op.\n",
            "WARNING:tensorflow:Using a while_loop for converting ImageProjectiveTransformV3 cause there is no registered converter for this op.\n",
            "WARNING:tensorflow:Using a while_loop for converting RngReadAndSkip cause there is no registered converter for this op.\n",
            "WARNING:tensorflow:Using a while_loop for converting Bitcast cause there is no registered converter for this op.\n",
            "WARNING:tensorflow:Using a while_loop for converting Bitcast cause there is no registered converter for this op.\n",
            "WARNING:tensorflow:Using a while_loop for converting StatelessRandomUniformV2 cause there is no registered converter for this op.\n",
            "WARNING:tensorflow:Using a while_loop for converting ImageProjectiveTransformV3 cause there is no registered converter for this op.\n"
          ]
        }
      ],
      "source": [
        "import warnings\n",
        "warnings.filterwarnings('ignore')\n",
        "\n",
        "data_augmentation = keras.Sequential(\n",
        "  \n",
        "  [\n",
        "    layers.experimental.preprocessing.RandomFlip(\"horizontal\", \n",
        "                                                 input_shape=(img_height, \n",
        "                                                              img_width,\n",
        "                                                              3)),\n",
        "    layers.experimental.preprocessing.RandomRotation(0.1),\n",
        "    layers.experimental.preprocessing.RandomZoom(0.1),\n",
        "  ]\n",
        ")"
      ]
    },
    {
      "cell_type": "code",
      "execution_count": 6,
      "metadata": {
        "id": "kjv4rf5KvnOh"
      },
      "outputs": [
        {
          "name": "stdout",
          "output_type": "stream",
          "text": [
            "WARNING:tensorflow:Using a while_loop for converting RngReadAndSkip cause there is no registered converter for this op.\n",
            "WARNING:tensorflow:Using a while_loop for converting Bitcast cause there is no registered converter for this op.\n",
            "WARNING:tensorflow:Using a while_loop for converting Bitcast cause there is no registered converter for this op.\n",
            "WARNING:tensorflow:Using a while_loop for converting StatelessRandomUniformV2 cause there is no registered converter for this op.\n",
            "WARNING:tensorflow:Using a while_loop for converting ImageProjectiveTransformV3 cause there is no registered converter for this op.\n",
            "WARNING:tensorflow:Using a while_loop for converting RngReadAndSkip cause there is no registered converter for this op.\n",
            "WARNING:tensorflow:Using a while_loop for converting Bitcast cause there is no registered converter for this op.\n",
            "WARNING:tensorflow:Using a while_loop for converting Bitcast cause there is no registered converter for this op.\n",
            "WARNING:tensorflow:Using a while_loop for converting StatelessRandomUniformV2 cause there is no registered converter for this op.\n",
            "WARNING:tensorflow:Using a while_loop for converting ImageProjectiveTransformV3 cause there is no registered converter for this op.\n"
          ]
        }
      ],
      "source": [
        "import warnings\n",
        "warnings.filterwarnings('ignore')\n",
        "\n",
        "num_classes = 5\n",
        "\n",
        "model = Sequential([\n",
        "  data_augmentation,\n",
        "  layers.experimental.preprocessing.Rescaling(1./255),\n",
        "  layers.Conv2D(32, 3, padding='same', activation='relu'),\n",
        "  layers.MaxPooling2D(),\n",
        "  layers.Conv2D(64, 3, padding='same', activation='relu'),\n",
        "  layers.MaxPooling2D(),\n",
        "  layers.Conv2D(128, 3, padding='same', activation='relu'),\n",
        "  layers.MaxPooling2D(),\n",
        "  layers.Dropout(0.2),\n",
        "  layers.Flatten(),\n",
        "  layers.Dense(128, activation='relu'),\n",
        "  layers.Dense(num_classes)\n",
        "])"
      ]
    },
    {
      "cell_type": "code",
      "execution_count": 7,
      "metadata": {
        "colab": {
          "base_uri": "https://localhost:8080/"
        },
        "id": "yqmU0Z53wbwr",
        "outputId": "a166db6a-c382-4f7a-91c4-5acfdd10c6a0"
      },
      "outputs": [
        {
          "name": "stdout",
          "output_type": "stream",
          "text": [
            "Epoch 1/100\n",
            "WARNING:tensorflow:Using a while_loop for converting RngReadAndSkip cause there is no registered converter for this op.\n",
            "WARNING:tensorflow:Using a while_loop for converting Bitcast cause there is no registered converter for this op.\n",
            "WARNING:tensorflow:Using a while_loop for converting Bitcast cause there is no registered converter for this op.\n",
            "WARNING:tensorflow:Using a while_loop for converting StatelessRandomUniformV2 cause there is no registered converter for this op.\n",
            "WARNING:tensorflow:Using a while_loop for converting ImageProjectiveTransformV3 cause there is no registered converter for this op.\n",
            "WARNING:tensorflow:Using a while_loop for converting RngReadAndSkip cause there is no registered converter for this op.\n",
            "WARNING:tensorflow:Using a while_loop for converting Bitcast cause there is no registered converter for this op.\n",
            "WARNING:tensorflow:Using a while_loop for converting Bitcast cause there is no registered converter for this op.\n",
            "WARNING:tensorflow:Using a while_loop for converting StatelessRandomUniformV2 cause there is no registered converter for this op.\n",
            "WARNING:tensorflow:Using a while_loop for converting ImageProjectiveTransformV3 cause there is no registered converter for this op.\n",
            "WARNING:tensorflow:Using a while_loop for converting RngReadAndSkip cause there is no registered converter for this op.\n",
            "WARNING:tensorflow:Using a while_loop for converting Bitcast cause there is no registered converter for this op.\n",
            "WARNING:tensorflow:Using a while_loop for converting Bitcast cause there is no registered converter for this op.\n",
            "WARNING:tensorflow:Using a while_loop for converting StatelessRandomUniformV2 cause there is no registered converter for this op.\n",
            "WARNING:tensorflow:Using a while_loop for converting ImageProjectiveTransformV3 cause there is no registered converter for this op.\n",
            "WARNING:tensorflow:Using a while_loop for converting RngReadAndSkip cause there is no registered converter for this op.\n",
            "WARNING:tensorflow:Using a while_loop for converting Bitcast cause there is no registered converter for this op.\n",
            "WARNING:tensorflow:Using a while_loop for converting Bitcast cause there is no registered converter for this op.\n",
            "WARNING:tensorflow:Using a while_loop for converting StatelessRandomUniformV2 cause there is no registered converter for this op.\n",
            "WARNING:tensorflow:Using a while_loop for converting ImageProjectiveTransformV3 cause there is no registered converter for this op.\n",
            "56/56 [==============================] - 79s 1s/step - loss: 1.0399 - accuracy: 0.6376 - val_loss: 1.5546 - val_accuracy: 0.5445\n",
            "Epoch 2/100\n",
            "56/56 [==============================] - 65s 1s/step - loss: 0.6988 - accuracy: 0.7528 - val_loss: 2.8273 - val_accuracy: 0.3602\n",
            "Epoch 3/100\n",
            "56/56 [==============================] - 63s 1s/step - loss: 0.6299 - accuracy: 0.7679 - val_loss: 3.1728 - val_accuracy: 0.2818\n",
            "Epoch 4/100\n",
            "56/56 [==============================] - 63s 1s/step - loss: 0.5670 - accuracy: 0.7869 - val_loss: 2.0024 - val_accuracy: 0.5381\n",
            "Epoch 5/100\n",
            "56/56 [==============================] - 65s 1s/step - loss: 0.5747 - accuracy: 0.7830 - val_loss: 3.1660 - val_accuracy: 0.3835\n",
            "Epoch 6/100\n",
            "56/56 [==============================] - 64s 1s/step - loss: 0.5656 - accuracy: 0.7864 - val_loss: 3.4135 - val_accuracy: 0.4153\n",
            "Epoch 7/100\n",
            "56/56 [==============================] - 64s 1s/step - loss: 0.5275 - accuracy: 0.8110 - val_loss: 2.9552 - val_accuracy: 0.4936\n",
            "Epoch 8/100\n",
            "56/56 [==============================] - 64s 1s/step - loss: 0.4989 - accuracy: 0.8054 - val_loss: 3.6580 - val_accuracy: 0.5042\n",
            "Epoch 9/100\n",
            "56/56 [==============================] - 64s 1s/step - loss: 0.4778 - accuracy: 0.8199 - val_loss: 3.5077 - val_accuracy: 0.5763\n",
            "Epoch 10/100\n",
            "56/56 [==============================] - 65s 1s/step - loss: 0.4653 - accuracy: 0.8255 - val_loss: 3.7436 - val_accuracy: 0.4025\n",
            "Epoch 11/100\n",
            "56/56 [==============================] - 65s 1s/step - loss: 0.4284 - accuracy: 0.8339 - val_loss: 2.8147 - val_accuracy: 0.5657\n",
            "Epoch 12/100\n",
            "56/56 [==============================] - 64s 1s/step - loss: 0.4554 - accuracy: 0.8233 - val_loss: 3.2148 - val_accuracy: 0.5318\n",
            "Epoch 13/100\n",
            "56/56 [==============================] - 68s 1s/step - loss: 0.3856 - accuracy: 0.8512 - val_loss: 4.6965 - val_accuracy: 0.5233\n",
            "Epoch 14/100\n",
            "56/56 [==============================] - 69s 1s/step - loss: 0.3772 - accuracy: 0.8535 - val_loss: 4.0672 - val_accuracy: 0.5487\n",
            "Epoch 15/100\n",
            "56/56 [==============================] - 60s 969ms/step - loss: 0.3339 - accuracy: 0.8714 - val_loss: 4.7449 - val_accuracy: 0.5148\n",
            "Epoch 16/100\n",
            "56/56 [==============================] - 51s 885ms/step - loss: 0.3393 - accuracy: 0.8702 - val_loss: 4.1016 - val_accuracy: 0.4894\n",
            "Epoch 17/100\n",
            "56/56 [==============================] - 52s 884ms/step - loss: 0.3608 - accuracy: 0.8596 - val_loss: 4.8814 - val_accuracy: 0.4386\n",
            "Epoch 18/100\n",
            "56/56 [==============================] - 53s 905ms/step - loss: 0.3136 - accuracy: 0.8848 - val_loss: 5.4823 - val_accuracy: 0.5233\n",
            "Epoch 19/100\n",
            "56/56 [==============================] - 52s 896ms/step - loss: 0.2779 - accuracy: 0.8909 - val_loss: 6.1942 - val_accuracy: 0.4661\n",
            "Epoch 20/100\n",
            "56/56 [==============================] - 52s 893ms/step - loss: 0.2914 - accuracy: 0.8921 - val_loss: 5.8971 - val_accuracy: 0.5169\n",
            "Epoch 21/100\n",
            "56/56 [==============================] - 53s 900ms/step - loss: 0.2790 - accuracy: 0.8881 - val_loss: 5.8310 - val_accuracy: 0.5466\n",
            "Epoch 22/100\n",
            "56/56 [==============================] - 52s 894ms/step - loss: 0.2918 - accuracy: 0.8893 - val_loss: 7.6066 - val_accuracy: 0.4322\n",
            "Epoch 23/100\n",
            "56/56 [==============================] - 53s 910ms/step - loss: 0.2793 - accuracy: 0.8921 - val_loss: 5.1551 - val_accuracy: 0.5148\n",
            "Epoch 24/100\n",
            "56/56 [==============================] - 57s 978ms/step - loss: 0.2456 - accuracy: 0.9027 - val_loss: 5.1193 - val_accuracy: 0.5000\n",
            "Epoch 25/100\n",
            "56/56 [==============================] - 53s 852ms/step - loss: 0.2037 - accuracy: 0.9256 - val_loss: 6.3758 - val_accuracy: 0.4492\n",
            "Epoch 26/100\n",
            "56/56 [==============================] - 50s 853ms/step - loss: 0.2303 - accuracy: 0.9100 - val_loss: 7.9649 - val_accuracy: 0.4492\n",
            "Epoch 27/100\n",
            "56/56 [==============================] - 50s 850ms/step - loss: 0.2534 - accuracy: 0.9055 - val_loss: 6.5589 - val_accuracy: 0.4831\n",
            "Epoch 28/100\n",
            "56/56 [==============================] - 50s 852ms/step - loss: 0.1930 - accuracy: 0.9301 - val_loss: 7.7793 - val_accuracy: 0.5487\n",
            "Epoch 29/100\n",
            "56/56 [==============================] - 51s 875ms/step - loss: 0.1781 - accuracy: 0.9340 - val_loss: 6.2515 - val_accuracy: 0.5254\n",
            "Epoch 30/100\n",
            "56/56 [==============================] - 50s 854ms/step - loss: 0.1721 - accuracy: 0.9351 - val_loss: 8.7654 - val_accuracy: 0.5953\n",
            "Epoch 31/100\n",
            "56/56 [==============================] - 49s 847ms/step - loss: 0.1920 - accuracy: 0.9368 - val_loss: 10.5302 - val_accuracy: 0.5106\n",
            "Epoch 32/100\n",
            "56/56 [==============================] - 49s 844ms/step - loss: 0.1554 - accuracy: 0.9385 - val_loss: 9.4726 - val_accuracy: 0.4958\n",
            "Epoch 33/100\n",
            "56/56 [==============================] - 51s 884ms/step - loss: 0.1765 - accuracy: 0.9318 - val_loss: 8.2432 - val_accuracy: 0.5551\n",
            "Epoch 34/100\n",
            "56/56 [==============================] - 51s 848ms/step - loss: 0.1882 - accuracy: 0.9368 - val_loss: 8.3123 - val_accuracy: 0.4725\n",
            "Epoch 35/100\n",
            "56/56 [==============================] - 50s 855ms/step - loss: 0.1738 - accuracy: 0.9385 - val_loss: 8.5548 - val_accuracy: 0.5720\n",
            "Epoch 36/100\n",
            "56/56 [==============================] - 50s 851ms/step - loss: 0.1581 - accuracy: 0.9435 - val_loss: 8.1111 - val_accuracy: 0.5191\n",
            "Epoch 37/100\n",
            "56/56 [==============================] - 50s 854ms/step - loss: 0.1338 - accuracy: 0.9536 - val_loss: 7.7082 - val_accuracy: 0.5826\n",
            "Epoch 38/100\n",
            "56/56 [==============================] - 49s 842ms/step - loss: 0.1323 - accuracy: 0.9525 - val_loss: 9.8442 - val_accuracy: 0.4492\n",
            "Epoch 39/100\n",
            "56/56 [==============================] - 52s 888ms/step - loss: 0.1584 - accuracy: 0.9474 - val_loss: 7.9130 - val_accuracy: 0.5381\n",
            "Epoch 40/100\n",
            "56/56 [==============================] - 51s 855ms/step - loss: 0.1694 - accuracy: 0.9379 - val_loss: 9.4220 - val_accuracy: 0.5530\n",
            "Epoch 41/100\n",
            "56/56 [==============================] - 50s 853ms/step - loss: 0.1473 - accuracy: 0.9452 - val_loss: 9.5959 - val_accuracy: 0.5911\n",
            "Epoch 42/100\n",
            "56/56 [==============================] - 49s 846ms/step - loss: 0.1540 - accuracy: 0.9430 - val_loss: 9.7636 - val_accuracy: 0.5975\n",
            "Epoch 43/100\n",
            "56/56 [==============================] - 49s 847ms/step - loss: 0.1274 - accuracy: 0.9513 - val_loss: 8.1448 - val_accuracy: 0.5975\n",
            "Epoch 44/100\n",
            "56/56 [==============================] - 50s 866ms/step - loss: 0.1170 - accuracy: 0.9614 - val_loss: 8.2589 - val_accuracy: 0.5572\n",
            "Epoch 45/100\n",
            "56/56 [==============================] - 54s 932ms/step - loss: 0.0942 - accuracy: 0.9642 - val_loss: 12.4973 - val_accuracy: 0.4852\n",
            "Epoch 46/100\n",
            "56/56 [==============================] - 51s 848ms/step - loss: 0.0959 - accuracy: 0.9687 - val_loss: 12.1500 - val_accuracy: 0.5636\n",
            "Epoch 47/100\n",
            "56/56 [==============================] - 51s 876ms/step - loss: 0.1204 - accuracy: 0.9569 - val_loss: 8.8902 - val_accuracy: 0.5297\n",
            "Epoch 48/100\n",
            "56/56 [==============================] - 50s 853ms/step - loss: 0.0875 - accuracy: 0.9687 - val_loss: 11.1580 - val_accuracy: 0.5403\n",
            "Epoch 49/100\n",
            "56/56 [==============================] - 49s 849ms/step - loss: 0.1039 - accuracy: 0.9609 - val_loss: 10.9918 - val_accuracy: 0.5678\n",
            "Epoch 50/100\n",
            "56/56 [==============================] - 49s 843ms/step - loss: 0.0905 - accuracy: 0.9698 - val_loss: 11.0208 - val_accuracy: 0.5000\n",
            "Epoch 51/100\n",
            "56/56 [==============================] - 50s 851ms/step - loss: 0.0866 - accuracy: 0.9704 - val_loss: 10.9391 - val_accuracy: 0.4831\n",
            "Epoch 52/100\n",
            "56/56 [==============================] - 53s 905ms/step - loss: 0.1147 - accuracy: 0.9586 - val_loss: 9.2778 - val_accuracy: 0.5487\n",
            "Epoch 53/100\n",
            "56/56 [==============================] - 55s 945ms/step - loss: 0.0863 - accuracy: 0.9726 - val_loss: 12.0088 - val_accuracy: 0.5381\n",
            "Epoch 54/100\n",
            "56/56 [==============================] - 55s 906ms/step - loss: 0.0830 - accuracy: 0.9704 - val_loss: 12.1291 - val_accuracy: 0.4513\n",
            "Epoch 55/100\n",
            "56/56 [==============================] - 52s 889ms/step - loss: 0.1007 - accuracy: 0.9653 - val_loss: 10.6589 - val_accuracy: 0.5487\n",
            "Epoch 56/100\n",
            "56/56 [==============================] - 56s 960ms/step - loss: 0.0870 - accuracy: 0.9664 - val_loss: 10.6541 - val_accuracy: 0.5657\n",
            "Epoch 57/100\n",
            "56/56 [==============================] - 57s 921ms/step - loss: 0.0817 - accuracy: 0.9709 - val_loss: 13.0490 - val_accuracy: 0.5551\n",
            "Epoch 58/100\n",
            "56/56 [==============================] - 52s 885ms/step - loss: 0.0810 - accuracy: 0.9715 - val_loss: 12.8858 - val_accuracy: 0.5445\n",
            "Epoch 59/100\n",
            "56/56 [==============================] - 53s 918ms/step - loss: 0.0745 - accuracy: 0.9709 - val_loss: 13.3759 - val_accuracy: 0.5614\n",
            "Epoch 60/100\n",
            "56/56 [==============================] - 53s 888ms/step - loss: 0.0741 - accuracy: 0.9771 - val_loss: 13.3716 - val_accuracy: 0.4216\n",
            "Epoch 61/100\n",
            "56/56 [==============================] - 51s 880ms/step - loss: 0.1399 - accuracy: 0.9530 - val_loss: 11.1061 - val_accuracy: 0.5742\n",
            "Epoch 62/100\n",
            "56/56 [==============================] - 52s 888ms/step - loss: 0.0757 - accuracy: 0.9715 - val_loss: 12.5208 - val_accuracy: 0.5636\n",
            "Epoch 63/100\n",
            "56/56 [==============================] - 51s 879ms/step - loss: 0.0603 - accuracy: 0.9799 - val_loss: 13.9808 - val_accuracy: 0.5975\n",
            "Epoch 64/100\n",
            "56/56 [==============================] - 50s 853ms/step - loss: 0.1000 - accuracy: 0.9653 - val_loss: 9.8716 - val_accuracy: 0.6102\n",
            "Epoch 65/100\n",
            "56/56 [==============================] - 49s 840ms/step - loss: 0.1276 - accuracy: 0.9569 - val_loss: 9.1124 - val_accuracy: 0.5699\n",
            "Epoch 66/100\n",
            "56/56 [==============================] - 50s 847ms/step - loss: 0.0763 - accuracy: 0.9726 - val_loss: 10.2696 - val_accuracy: 0.6250\n",
            "Epoch 67/100\n",
            "56/56 [==============================] - 49s 844ms/step - loss: 0.0785 - accuracy: 0.9771 - val_loss: 10.7263 - val_accuracy: 0.5826\n",
            "Epoch 68/100\n",
            "56/56 [==============================] - 49s 848ms/step - loss: 0.1001 - accuracy: 0.9670 - val_loss: 10.3119 - val_accuracy: 0.5805\n",
            "Epoch 69/100\n",
            "56/56 [==============================] - 50s 852ms/step - loss: 0.0557 - accuracy: 0.9793 - val_loss: 11.4452 - val_accuracy: 0.5847\n",
            "Epoch 70/100\n",
            "56/56 [==============================] - 50s 854ms/step - loss: 0.0503 - accuracy: 0.9804 - val_loss: 12.0228 - val_accuracy: 0.5466\n",
            "Epoch 71/100\n",
            "56/56 [==============================] - 49s 849ms/step - loss: 0.0607 - accuracy: 0.9821 - val_loss: 12.7511 - val_accuracy: 0.5911\n",
            "Epoch 72/100\n",
            "56/56 [==============================] - 49s 842ms/step - loss: 0.0607 - accuracy: 0.9838 - val_loss: 11.6196 - val_accuracy: 0.5530\n",
            "Epoch 73/100\n",
            "56/56 [==============================] - 50s 855ms/step - loss: 0.0764 - accuracy: 0.9737 - val_loss: 10.2511 - val_accuracy: 0.6165\n",
            "Epoch 74/100\n",
            "56/56 [==============================] - 50s 852ms/step - loss: 0.0625 - accuracy: 0.9743 - val_loss: 11.4327 - val_accuracy: 0.5064\n",
            "Epoch 75/100\n",
            "56/56 [==============================] - 49s 844ms/step - loss: 0.0621 - accuracy: 0.9732 - val_loss: 10.3141 - val_accuracy: 0.5911\n",
            "Epoch 76/100\n",
            "56/56 [==============================] - 49s 843ms/step - loss: 0.0448 - accuracy: 0.9838 - val_loss: 9.4909 - val_accuracy: 0.5742\n",
            "Epoch 77/100\n",
            "56/56 [==============================] - 50s 857ms/step - loss: 0.0439 - accuracy: 0.9860 - val_loss: 14.0111 - val_accuracy: 0.5572\n",
            "Epoch 78/100\n",
            "56/56 [==============================] - 50s 852ms/step - loss: 0.0554 - accuracy: 0.9821 - val_loss: 11.4019 - val_accuracy: 0.5530\n",
            "Epoch 79/100\n",
            "56/56 [==============================] - 49s 849ms/step - loss: 0.0321 - accuracy: 0.9899 - val_loss: 12.9303 - val_accuracy: 0.6059\n",
            "Epoch 80/100\n",
            "56/56 [==============================] - 61s 1s/step - loss: 0.0326 - accuracy: 0.9916 - val_loss: 13.5663 - val_accuracy: 0.5720\n",
            "Epoch 81/100\n",
            "56/56 [==============================] - 56s 891ms/step - loss: 0.0275 - accuracy: 0.9905 - val_loss: 13.4154 - val_accuracy: 0.6038\n",
            "Epoch 82/100\n",
            "56/56 [==============================] - 54s 930ms/step - loss: 0.0642 - accuracy: 0.9765 - val_loss: 12.0389 - val_accuracy: 0.5678\n",
            "Epoch 83/100\n",
            "56/56 [==============================] - 55s 887ms/step - loss: 0.0618 - accuracy: 0.9810 - val_loss: 12.3155 - val_accuracy: 0.6229\n",
            "Epoch 84/100\n",
            "56/56 [==============================] - 50s 852ms/step - loss: 0.0382 - accuracy: 0.9843 - val_loss: 14.2669 - val_accuracy: 0.5763\n",
            "Epoch 85/100\n",
            "56/56 [==============================] - 50s 846ms/step - loss: 0.0362 - accuracy: 0.9877 - val_loss: 13.5271 - val_accuracy: 0.5763\n",
            "Epoch 86/100\n",
            "56/56 [==============================] - 52s 860ms/step - loss: 0.0564 - accuracy: 0.9827 - val_loss: 12.3070 - val_accuracy: 0.5890\n",
            "Epoch 87/100\n",
            "56/56 [==============================] - 50s 852ms/step - loss: 0.0832 - accuracy: 0.9709 - val_loss: 9.2503 - val_accuracy: 0.5784\n",
            "Epoch 88/100\n",
            "56/56 [==============================] - 59s 1s/step - loss: 0.0802 - accuracy: 0.9709 - val_loss: 10.4765 - val_accuracy: 0.5508\n",
            "Epoch 89/100\n",
            "56/56 [==============================] - 73s 1s/step - loss: 0.0572 - accuracy: 0.9799 - val_loss: 11.7826 - val_accuracy: 0.5593\n",
            "Epoch 90/100\n",
            "56/56 [==============================] - 64s 1s/step - loss: 0.0332 - accuracy: 0.9877 - val_loss: 12.3758 - val_accuracy: 0.5805\n",
            "Epoch 91/100\n",
            "56/56 [==============================] - 64s 1s/step - loss: 0.0363 - accuracy: 0.9866 - val_loss: 13.1489 - val_accuracy: 0.5254\n",
            "Epoch 92/100\n",
            "56/56 [==============================] - 64s 1s/step - loss: 0.0461 - accuracy: 0.9832 - val_loss: 17.4011 - val_accuracy: 0.5254\n",
            "Epoch 93/100\n",
            "56/56 [==============================] - 65s 1s/step - loss: 0.0537 - accuracy: 0.9804 - val_loss: 15.2096 - val_accuracy: 0.5911\n",
            "Epoch 94/100\n",
            "56/56 [==============================] - 64s 1s/step - loss: 0.0677 - accuracy: 0.9743 - val_loss: 16.2503 - val_accuracy: 0.5508\n",
            "Epoch 95/100\n",
            "56/56 [==============================] - 64s 1s/step - loss: 0.0944 - accuracy: 0.9709 - val_loss: 9.9393 - val_accuracy: 0.5911\n",
            "Epoch 96/100\n",
            "56/56 [==============================] - 64s 1s/step - loss: 0.0659 - accuracy: 0.9776 - val_loss: 9.2618 - val_accuracy: 0.5508\n",
            "Epoch 97/100\n",
            "56/56 [==============================] - 65s 1s/step - loss: 0.0504 - accuracy: 0.9827 - val_loss: 14.4071 - val_accuracy: 0.5847\n",
            "Epoch 98/100\n",
            "56/56 [==============================] - 64s 1s/step - loss: 0.0484 - accuracy: 0.9787 - val_loss: 13.9660 - val_accuracy: 0.5297\n",
            "Epoch 99/100\n",
            "56/56 [==============================] - 62s 998ms/step - loss: 0.0335 - accuracy: 0.9877 - val_loss: 13.1105 - val_accuracy: 0.5911\n",
            "Epoch 100/100\n",
            "56/56 [==============================] - 60s 1s/step - loss: 0.0379 - accuracy: 0.9871 - val_loss: 13.4921 - val_accuracy: 0.5805\n"
          ]
        }
      ],
      "source": [
        "model.compile(optimizer='adam',\n",
        "              loss=tf.keras.losses.SparseCategoricalCrossentropy(from_logits=True),\n",
        "              metrics=['accuracy'])\n",
        "epochs=100\n",
        "history = model.fit(\n",
        "  train_ds,\n",
        "  validation_data=val_ds,\n",
        "  epochs=epochs\n",
        ")"
      ]
    },
    {
      "cell_type": "code",
      "execution_count": null,
      "metadata": {
        "colab": {
          "base_uri": "https://localhost:8080/",
          "height": 499
        },
        "id": "B18Qn1hKxGab",
        "outputId": "9dbd87fc-a238-46e2-9b0c-96314278cb4b"
      },
      "outputs": [],
      "source": [
        "acc = history.history['accuracy']\n",
        "val_acc = history.history['val_accuracy']\n",
        "\n",
        "loss = history.history['loss']\n",
        "val_loss = history.history['val_loss']\n",
        "\n",
        "epochs_range = range(epochs)\n",
        "\n",
        "plt.figure(figsize=(8, 8))\n",
        "plt.subplot(1, 2, 1)\n",
        "plt.plot(epochs_range, acc, label='Training Accuracy')\n",
        "plt.plot(epochs_range, val_acc, label='Validation Accuracy')\n",
        "plt.legend(loc='lower right')\n",
        "plt.title('Training and Validation Accuracy')\n",
        "\n",
        "plt.subplot(1, 2, 2)\n",
        "plt.plot(epochs_range, loss, label='Training Loss')\n",
        "plt.plot(epochs_range, val_loss, label='Validation Loss')\n",
        "plt.legend(loc='upper right')\n",
        "plt.title('Training and Validation Loss')\n",
        "plt.show()"
      ]
    },
    {
      "cell_type": "code",
      "execution_count": null,
      "metadata": {
        "id": "7QTIKE387p1V"
      },
      "outputs": [],
      "source": [
        "# Save the entire model to a HDF5 file.\n",
        "# The '.h5' extension indicates that the model should be saved to HDF5.\n",
        "\n",
        "model.save('acnescan_v2.h5')"
      ]
    },
    {
      "cell_type": "code",
      "execution_count": null,
      "metadata": {
        "id": "nzRQIvVs7wrl"
      },
      "outputs": [],
      "source": [
        "from keras.models import load_model\n",
        "\n",
        "# returns a compiled model\n",
        "# identical to the previous one\n",
        "new_model= tf.keras.models.load_model(filepath=\"acnescan_v2.h5\")\n"
      ]
    },
    {
      "cell_type": "code",
      "execution_count": null,
      "metadata": {
        "colab": {
          "base_uri": "https://localhost:8080/",
          "height": 88,
          "resources": {
            "http://localhost:8080/nbextensions/google.colab/files.js": {
              "data": "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",
              "headers": [
                [
                  "content-type",
                  "application/javascript"
                ]
              ],
              "ok": true,
              "status": 200,
              "status_text": ""
            }
          }
        },
        "id": "gQs8LdNriePj",
        "outputId": "c980d6c6-a70f-4300-e489-cba09362c6be"
      },
      "outputs": [],
      "source": [
        "import numpy as np\n",
        "import tkinter as tk\n",
        "from tkinter import filedialog\n",
        "from keras.preprocessing import image\n",
        "\n",
        "root = tk.Tk()\n",
        "root.withdraw()\n",
        "uploaded = filedialog.askopenfilename()\n",
        "\n",
        "for fn in uploaded.keys():\n",
        " \n",
        "  # predicting images\n",
        "  path = fn\n",
        "  img = keras.preprocessing.image.load_img(\n",
        "      path, target_size=(img_height, img_width)\n",
        "  )\n",
        "  img_array = keras.preprocessing.image.img_to_array(img)\n",
        "  img_array = tf.expand_dims(img_array, 0) # Create a batch\n",
        "\n",
        "  predictions = model.predict(img_array)\n",
        "  score = tf.nn.softmax(predictions[0])\n",
        "\n",
        "  print(\n",
        "      \"This image most likely belongs to {} with a {:.2f} percent confidence.\"\n",
        "      .format(class_names[np.argmax(score)], 100 * np.max(score))\n",
        "  )\n",
        " "
      ]
    },
    {
      "cell_type": "code",
      "execution_count": null,
      "metadata": {
        "colab": {
          "base_uri": "https://localhost:8080/"
        },
        "id": "9xfkFIjOmCwA",
        "outputId": "c273c37f-aedc-475d-e9e0-d45f1d5d5420"
      },
      "outputs": [],
      "source": [
        "# Convert the model.\n",
        "converter = tf.lite.TFLiteConverter.from_keras_model(new_model)\n",
        "tflite_model = converter.convert()\n",
        "\n",
        "# Save the TF Lite model.\n",
        "with tf.io.gfile.GFile('acnescan_V2.tflite', 'wb') as f:\n",
        "  f.write(tflite_model)"
      ]
    }
  ],
  "metadata": {
    "colab": {
      "name": "Acnescan_v2.ipynb",
      "provenance": [],
      "toc_visible": true
    },
    "kernelspec": {
      "display_name": "Python 3",
      "name": "python3"
    },
    "language_info": {
      "codemirror_mode": {
        "name": "ipython",
        "version": 3
      },
      "file_extension": ".py",
      "mimetype": "text/x-python",
      "name": "python",
      "nbconvert_exporter": "python",
      "pygments_lexer": "ipython3",
      "version": "3.10.11"
    }
  },
  "nbformat": 4,
  "nbformat_minor": 0
}
